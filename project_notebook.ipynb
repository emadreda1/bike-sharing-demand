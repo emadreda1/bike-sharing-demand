{
 "cells": [
  {
   "cell_type": "code",
   "execution_count": 1,
   "id": "3da1074e-bb2c-4baa-a396-e756f84bab18",
   "metadata": {
    "scrolled": true
   },
   "outputs": [
    {
     "name": "stdout",
     "output_type": "stream",
     "text": [
      "Collecting kaggle\n",
      "  Using cached kaggle-1.6.12-py3-none-any.whl\n",
      "Requirement already satisfied: six>=1.10 in /opt/conda/lib/python3.10/site-packages (from kaggle) (1.16.0)\n",
      "Requirement already satisfied: certifi>=2023.7.22 in /opt/conda/lib/python3.10/site-packages (from kaggle) (2024.2.2)\n",
      "Requirement already satisfied: python-dateutil in /opt/conda/lib/python3.10/site-packages (from kaggle) (2.9.0)\n",
      "Requirement already satisfied: requests in /opt/conda/lib/python3.10/site-packages (from kaggle) (2.31.0)\n",
      "Requirement already satisfied: tqdm in /opt/conda/lib/python3.10/site-packages (from kaggle) (4.66.2)\n",
      "Requirement already satisfied: python-slugify in /opt/conda/lib/python3.10/site-packages (from kaggle) (8.0.4)\n",
      "Requirement already satisfied: urllib3 in /opt/conda/lib/python3.10/site-packages (from kaggle) (1.26.18)\n",
      "Requirement already satisfied: bleach in /opt/conda/lib/python3.10/site-packages (from kaggle) (6.1.0)\n",
      "Requirement already satisfied: webencodings in /opt/conda/lib/python3.10/site-packages (from bleach->kaggle) (0.5.1)\n",
      "Requirement already satisfied: text-unidecode>=1.3 in /opt/conda/lib/python3.10/site-packages (from python-slugify->kaggle) (1.3)\n",
      "Requirement already satisfied: charset-normalizer<4,>=2 in /opt/conda/lib/python3.10/site-packages (from requests->kaggle) (3.3.2)\n",
      "Requirement already satisfied: idna<4,>=2.5 in /opt/conda/lib/python3.10/site-packages (from requests->kaggle) (3.6)\n",
      "Installing collected packages: kaggle\n",
      "Successfully installed kaggle-1.6.12\n"
     ]
    }
   ],
   "source": [
    "# !pip install -U pip\n",
    "# !pip install -U setuptools wheel\n",
    "# !pip install -U \"mxnet<2.0.0\" bokeh==2.0.1\n",
    "# !pip install autogluon --no-cache-dir\n",
    "# !pip install bokeh==2.0.1\n",
    "# !pip install catboost\n",
    "# !pip install bokeh==2.0.1\n",
    "from autogluon.tabular import TabularPredictor\n",
    "import pandas as pd\n",
    "!pip install kaggle"
   ]
  },
  {
   "cell_type": "code",
   "execution_count": 2,
   "id": "ff8b973a-fca6-46f3-8223-0bb8cfc44bd7",
   "metadata": {},
   "outputs": [],
   "source": [
    "import json\n",
    "import os\n",
    "\n",
    "# Load Kaggle API credentials\n",
    "with open(\"kaggle.json\", \"r\") as file:\n",
    "    creds = json.load(file)\n",
    "\n",
    "# Set environment variables\n",
    "os.environ['KAGGLE_USERNAME'] = creds['username']\n",
    "os.environ['KAGGLE_KEY'] = creds['key']\n"
   ]
  },
  {
   "cell_type": "code",
   "execution_count": 3,
   "id": "f09d284b-f749-44f2-b0a6-9a3ae6f48aa3",
   "metadata": {},
   "outputs": [
    {
     "name": "stdout",
     "output_type": "stream",
     "text": [
      "bike-sharing-demand.zip: Skipping, found more recently modified local copy (use --force to force download)\n",
      "Archive:  bike-sharing-demand.zip\n",
      "  inflating: sampleSubmission.csv    \n",
      "  inflating: test.csv                \n",
      "  inflating: train.csv               \n"
     ]
    }
   ],
   "source": [
    "# Download the dataset, it will be in a .zip file so you'll need to unzip it as well.\n",
    "!kaggle competitions download -c bike-sharing-demand\n",
    "# If you already downloaded it you can use the -o command to overwrite the file\n",
    "!unzip -o bike-sharing-demand.zip\n"
   ]
  },
  {
   "cell_type": "code",
   "execution_count": 4,
   "id": "08fa4be1-f76d-431c-bd72-4a9e07fef35f",
   "metadata": {},
   "outputs": [],
   "source": [
    "import pandas as pd\n",
    "from autogluon.tabular import TabularPredictor\n",
    "import autogluon"
   ]
  },
  {
   "cell_type": "code",
   "execution_count": 5,
   "id": "98c02272-493c-46e7-ac0b-708122775262",
   "metadata": {},
   "outputs": [
    {
     "name": "stdout",
     "output_type": "stream",
     "text": [
      "             datetime  season  holiday  workingday  weather  temp   atemp  \\\n",
      "0 2011-01-01 00:00:00       1        0           0        1  9.84  14.395   \n",
      "1 2011-01-01 01:00:00       1        0           0        1  9.02  13.635   \n",
      "2 2011-01-01 02:00:00       1        0           0        1  9.02  13.635   \n",
      "3 2011-01-01 03:00:00       1        0           0        1  9.84  14.395   \n",
      "4 2011-01-01 04:00:00       1        0           0        1  9.84  14.395   \n",
      "\n",
      "   humidity  windspeed  casual  registered  count  \n",
      "0        81        0.0       3          13     16  \n",
      "1        80        0.0       8          32     40  \n",
      "2        80        0.0       5          27     32  \n",
      "3        75        0.0       3          10     13  \n",
      "4        75        0.0       0           1      1  \n"
     ]
    }
   ],
   "source": [
    "# Create the train dataset in pandas by reading the csv\n",
    "# Set the parsing of the datetime column so you can use some of the `dt` features in pandas later\n",
    "train = pd.read_csv('train.csv', parse_dates=['datetime'])\n",
    "print(train.head())"
   ]
  },
  {
   "cell_type": "code",
   "execution_count": 6,
   "id": "60e26469-6f41-4593-83a4-b1ed9799d298",
   "metadata": {},
   "outputs": [
    {
     "name": "stdout",
     "output_type": "stream",
     "text": [
      "                            datetime        season       holiday  \\\n",
      "count                          10886  10886.000000  10886.000000   \n",
      "mean   2011-12-27 05:56:22.399411968      2.506614      0.028569   \n",
      "min              2011-01-01 00:00:00      1.000000      0.000000   \n",
      "25%              2011-07-02 07:15:00      2.000000      0.000000   \n",
      "50%              2012-01-01 20:30:00      3.000000      0.000000   \n",
      "75%              2012-07-01 12:45:00      4.000000      0.000000   \n",
      "max              2012-12-19 23:00:00      4.000000      1.000000   \n",
      "std                              NaN      1.116174      0.166599   \n",
      "\n",
      "         workingday       weather         temp         atemp      humidity  \\\n",
      "count  10886.000000  10886.000000  10886.00000  10886.000000  10886.000000   \n",
      "mean       0.680875      1.418427     20.23086     23.655084     61.886460   \n",
      "min        0.000000      1.000000      0.82000      0.760000      0.000000   \n",
      "25%        0.000000      1.000000     13.94000     16.665000     47.000000   \n",
      "50%        1.000000      1.000000     20.50000     24.240000     62.000000   \n",
      "75%        1.000000      2.000000     26.24000     31.060000     77.000000   \n",
      "max        1.000000      4.000000     41.00000     45.455000    100.000000   \n",
      "std        0.466159      0.633839      7.79159      8.474601     19.245033   \n",
      "\n",
      "          windspeed        casual    registered         count  \n",
      "count  10886.000000  10886.000000  10886.000000  10886.000000  \n",
      "mean      12.799395     36.021955    155.552177    191.574132  \n",
      "min        0.000000      0.000000      0.000000      1.000000  \n",
      "25%        7.001500      4.000000     36.000000     42.000000  \n",
      "50%       12.998000     17.000000    118.000000    145.000000  \n",
      "75%       16.997900     49.000000    222.000000    284.000000  \n",
      "max       56.996900    367.000000    886.000000    977.000000  \n",
      "std        8.164537     49.960477    151.039033    181.144454  \n"
     ]
    }
   ],
   "source": [
    "# Simple output of the train dataset to view some of the min/max/varition of the dataset features.\n",
    "print(train.describe())"
   ]
  },
  {
   "cell_type": "code",
   "execution_count": 7,
   "id": "8c6dd485-4712-46b1-a61b-60ea28357328",
   "metadata": {},
   "outputs": [
    {
     "name": "stdout",
     "output_type": "stream",
     "text": [
      "             datetime  season  holiday  workingday  weather   temp   atemp  \\\n",
      "0 2011-01-20 00:00:00       1        0           1        1  10.66  11.365   \n",
      "1 2011-01-20 01:00:00       1        0           1        1  10.66  13.635   \n",
      "2 2011-01-20 02:00:00       1        0           1        1  10.66  13.635   \n",
      "3 2011-01-20 03:00:00       1        0           1        1  10.66  12.880   \n",
      "4 2011-01-20 04:00:00       1        0           1        1  10.66  12.880   \n",
      "\n",
      "   humidity  windspeed  \n",
      "0        56    26.0027  \n",
      "1        56     0.0000  \n",
      "2        56     0.0000  \n",
      "3        56    11.0014  \n",
      "4        56    11.0014  \n"
     ]
    }
   ],
   "source": [
    "# Create the test pandas dataframe in pandas by reading the csv, remember to parse the datetime!\n",
    "test = pd.read_csv('test.csv', parse_dates=['datetime'])\n",
    "print(test.head())"
   ]
  },
  {
   "cell_type": "code",
   "execution_count": 8,
   "id": "9603411f-555f-44e9-913c-9ce16459ce09",
   "metadata": {},
   "outputs": [
    {
     "name": "stdout",
     "output_type": "stream",
     "text": [
      "              datetime  count\n",
      "0  2011-01-20 00:00:00      0\n",
      "1  2011-01-20 01:00:00      0\n",
      "2  2011-01-20 02:00:00      0\n",
      "3  2011-01-20 03:00:00      0\n",
      "4  2011-01-20 04:00:00      0\n"
     ]
    }
   ],
   "source": [
    "# Same thing as train and test dataset\n",
    "submission = pd.read_csv('sampleSubmission.csv')\n",
    "print(submission.head())"
   ]
  },
  {
   "cell_type": "code",
   "execution_count": 9,
   "id": "dacc8076-466f-4b95-b1b8-c15584f08d33",
   "metadata": {},
   "outputs": [],
   "source": [
    "# # Drop 'casual' and 'registered' columns from the training set\n",
    "train = train.drop(['casual', 'registered'], axis=1)\n"
   ]
  },
  {
   "cell_type": "code",
   "execution_count": 10,
   "id": "ef579a1c-7ff6-4810-bc72-7ea52680c37d",
   "metadata": {},
   "outputs": [
    {
     "name": "stdout",
     "output_type": "stream",
     "text": [
      "Index(['datetime', 'season', 'holiday', 'workingday', 'weather', 'temp',\n",
      "       'atemp', 'humidity', 'windspeed', 'count'],\n",
      "      dtype='object')\n"
     ]
    }
   ],
   "source": [
    "print(train.columns)"
   ]
  },
  {
   "cell_type": "code",
   "execution_count": 11,
   "id": "8c80e758-9334-4183-93e8-5bc18b04a6cb",
   "metadata": {
    "scrolled": true
   },
   "outputs": [
    {
     "name": "stderr",
     "output_type": "stream",
     "text": [
      "No path specified. Models will be saved in: \"AutogluonModels/ag-20240506_103018\"\n",
      "Warning: hyperparameter tuning is currently experimental and may cause the process to hang.\n",
      "/opt/conda/lib/python3.10/site-packages/autogluon/core/utils/utils.py:564: FutureWarning: use_inf_as_na option is deprecated and will be removed in a future version. Convert inf values to NaN before operating instead.\n",
      "  with pd.option_context(\"mode.use_inf_as_na\", True):  # treat None, NaN, INF, NINF as NA\n",
      "Beginning AutoGluon training ...\n",
      "AutoGluon will save models to \"AutogluonModels/ag-20240506_103018\"\n",
      "AutoGluon Version:  0.8.2\n",
      "Python Version:     3.10.14\n",
      "Operating System:   Linux\n",
      "Platform Machine:   x86_64\n",
      "Platform Version:   #1 SMP Sat Mar 23 09:49:55 UTC 2024\n",
      "Disk Space Avail:   3.57 GB / 10.73 GB (33.3%)\n",
      "\tWARNING: Available disk space is low and there is a risk that AutoGluon will run out of disk during fit, causing an exception. \n",
      "\tWe recommend a minimum available disk space of 10 GB, and large datasets may require more.\n",
      "Train Data Rows:    10886\n",
      "Train Data Columns: 9\n",
      "Label Column: count\n",
      "Preprocessing data ...\n",
      "/opt/conda/lib/python3.10/site-packages/autogluon/core/utils/utils.py:564: FutureWarning: use_inf_as_na option is deprecated and will be removed in a future version. Convert inf values to NaN before operating instead.\n",
      "  with pd.option_context(\"mode.use_inf_as_na\", True):  # treat None, NaN, INF, NINF as NA\n",
      "AutoGluon infers your prediction problem is: 'regression' (because dtype of label-column == int and many unique label-values observed).\n",
      "\tLabel info (max, min, mean, stddev): (977, 1, 191.57413, 181.14445)\n",
      "\tIf 'regression' is not the correct problem_type, please manually specify the problem_type parameter during predictor init (You may specify problem_type as one of: ['binary', 'multiclass', 'regression'])\n",
      "/opt/conda/lib/python3.10/site-packages/autogluon/tabular/learner/default_learner.py:215: FutureWarning: use_inf_as_na option is deprecated and will be removed in a future version. Convert inf values to NaN before operating instead.\n",
      "  with pd.option_context(\"mode.use_inf_as_na\", True):  # treat None, NaN, INF, NINF as NA\n",
      "Using Feature Generators to preprocess the data ...\n",
      "Dropping user-specified ignored columns: ['casual', 'registered']\n",
      "Fitting AutoMLPipelineFeatureGenerator...\n",
      "\tAvailable Memory:                    2636.03 MB\n",
      "\tTrain Data (Original)  Memory Usage: 0.78 MB (0.0% of available memory)\n",
      "\tInferring data type of each feature based on column values. Set feature_metadata_in to manually specify special dtypes of the features.\n",
      "\tStage 1 Generators:\n",
      "\t\tFitting AsTypeFeatureGenerator...\n",
      "\t\t\tNote: Converting 2 features to boolean dtype as they only contain 2 unique values.\n",
      "\tStage 2 Generators:\n",
      "\t\tFitting FillNaFeatureGenerator...\n",
      "\tStage 3 Generators:\n",
      "\t\tFitting IdentityFeatureGenerator...\n",
      "\t\tFitting DatetimeFeatureGenerator...\n",
      "\tStage 4 Generators:\n",
      "\t\tFitting DropUniqueFeatureGenerator...\n",
      "\tStage 5 Generators:\n",
      "\t\tFitting DropDuplicatesFeatureGenerator...\n",
      "\tTypes of features in original data (raw dtype, special dtypes):\n",
      "\t\t('datetime', []) : 1 | ['datetime']\n",
      "\t\t('float', [])    : 3 | ['temp', 'atemp', 'windspeed']\n",
      "\t\t('int', [])      : 5 | ['season', 'holiday', 'workingday', 'weather', 'humidity']\n",
      "\tTypes of features in processed data (raw dtype, special dtypes):\n",
      "\t\t('float', [])                : 3 | ['temp', 'atemp', 'windspeed']\n",
      "\t\t('int', [])                  : 3 | ['season', 'weather', 'humidity']\n",
      "\t\t('int', ['bool'])            : 2 | ['holiday', 'workingday']\n",
      "\t\t('int', ['datetime_as_int']) : 5 | ['datetime', 'datetime.year', 'datetime.month', 'datetime.day', 'datetime.dayofweek']\n",
      "\t0.1s = Fit runtime\n",
      "\t9 features in original data used to generate 13 features in processed data.\n",
      "\tTrain Data (Processed) Memory Usage: 0.98 MB (0.0% of available memory)\n",
      "Data preprocessing and feature engineering runtime = 0.16s ...\n",
      "AutoGluon will gauge predictive performance using evaluation metric: 'root_mean_squared_error'\n",
      "\tThis metric's sign has been flipped to adhere to being higher_is_better. The metric score can be multiplied by -1 to get the metric value.\n",
      "\tTo change this, specify the eval_metric parameter of Predictor()\n",
      "Automatically generating train/validation split with holdout_frac=0.2, Train Rows: 8708, Val Rows: 2178\n",
      "User-specified model hyperparameters to be fit:\n",
      "{\n",
      "\t'NN_TORCH': {},\n",
      "\t'GBM': [{'extra_trees': True, 'ag_args': {'name_suffix': 'XT'}}, {}, 'GBMLarge'],\n",
      "\t'CAT': {},\n",
      "\t'XGB': {},\n",
      "\t'FASTAI': {},\n",
      "\t'RF': [{'criterion': 'gini', 'ag_args': {'name_suffix': 'Gini', 'problem_types': ['binary', 'multiclass']}}, {'criterion': 'entropy', 'ag_args': {'name_suffix': 'Entr', 'problem_types': ['binary', 'multiclass']}}, {'criterion': 'squared_error', 'ag_args': {'name_suffix': 'MSE', 'problem_types': ['regression', 'quantile']}}],\n",
      "\t'XT': [{'criterion': 'gini', 'ag_args': {'name_suffix': 'Gini', 'problem_types': ['binary', 'multiclass']}}, {'criterion': 'entropy', 'ag_args': {'name_suffix': 'Entr', 'problem_types': ['binary', 'multiclass']}}, {'criterion': 'squared_error', 'ag_args': {'name_suffix': 'MSE', 'problem_types': ['regression', 'quantile']}}],\n",
      "\t'KNN': [{'weights': 'uniform', 'ag_args': {'name_suffix': 'Unif'}}, {'weights': 'distance', 'ag_args': {'name_suffix': 'Dist'}}],\n",
      "}\n",
      "Fitting 11 L1 models ...\n",
      "Hyperparameter tuning model: KNeighborsUnif ...\n",
      "Warning: Exception caused KNeighborsUnif to fail during hyperparameter tuning... Skipping this model.\n",
      "Traceback (most recent call last):\n",
      "  File \"/opt/conda/lib/python3.10/site-packages/autogluon/core/trainer/abstract_trainer.py\", line 2066, in _train_single_full\n",
      "    hpo_models, hpo_results = model.hyperparameter_tune(\n",
      "  File \"/opt/conda/lib/python3.10/site-packages/autogluon/core/models/abstract/abstract_model.py\", line 1385, in hyperparameter_tune\n",
      "    hpo_executor.initialize(hyperparameter_tune_kwargs, default_num_trials=default_num_trials, time_limit=time_limit)\n",
      "  File \"/opt/conda/lib/python3.10/site-packages/autogluon/core/hpo/executors.py\", line 489, in initialize\n",
      "    hyperparameter_tune_kwargs = scheduler_factory(hyperparameter_tune_kwargs, num_trials=num_trials, nthreads_per_trial=\"auto\", ngpus_per_trial=\"auto\")\n",
      "  File \"/opt/conda/lib/python3.10/site-packages/autogluon/core/scheduler/scheduler_factory.py\", line 70, in scheduler_factory\n",
      "    raise ValueError(f\"Required key 'scheduler' is not present in hyperparameter_tune_kwargs: {hyperparameter_tune_kwargs}\")\n",
      "ValueError: Required key 'scheduler' is not present in hyperparameter_tune_kwargs: {'searcher': 'bayesopt', 'num_trials': 20}\n",
      "Required key 'scheduler' is not present in hyperparameter_tune_kwargs: {'searcher': 'bayesopt', 'num_trials': 20}\n",
      "Hyperparameter tuning model: KNeighborsDist ...\n",
      "Warning: Exception caused KNeighborsDist to fail during hyperparameter tuning... Skipping this model.\n",
      "Traceback (most recent call last):\n",
      "  File \"/opt/conda/lib/python3.10/site-packages/autogluon/core/trainer/abstract_trainer.py\", line 2066, in _train_single_full\n",
      "    hpo_models, hpo_results = model.hyperparameter_tune(\n",
      "  File \"/opt/conda/lib/python3.10/site-packages/autogluon/core/models/abstract/abstract_model.py\", line 1385, in hyperparameter_tune\n",
      "    hpo_executor.initialize(hyperparameter_tune_kwargs, default_num_trials=default_num_trials, time_limit=time_limit)\n",
      "  File \"/opt/conda/lib/python3.10/site-packages/autogluon/core/hpo/executors.py\", line 489, in initialize\n",
      "    hyperparameter_tune_kwargs = scheduler_factory(hyperparameter_tune_kwargs, num_trials=num_trials, nthreads_per_trial=\"auto\", ngpus_per_trial=\"auto\")\n",
      "  File \"/opt/conda/lib/python3.10/site-packages/autogluon/core/scheduler/scheduler_factory.py\", line 70, in scheduler_factory\n",
      "    raise ValueError(f\"Required key 'scheduler' is not present in hyperparameter_tune_kwargs: {hyperparameter_tune_kwargs}\")\n",
      "ValueError: Required key 'scheduler' is not present in hyperparameter_tune_kwargs: {'searcher': 'bayesopt', 'num_trials': 20}\n",
      "Required key 'scheduler' is not present in hyperparameter_tune_kwargs: {'searcher': 'bayesopt', 'num_trials': 20}\n",
      "Hyperparameter tuning model: LightGBMXT ...\n",
      "Warning: Exception caused LightGBMXT to fail during hyperparameter tuning... Skipping this model.\n",
      "Traceback (most recent call last):\n",
      "  File \"/opt/conda/lib/python3.10/site-packages/autogluon/core/trainer/abstract_trainer.py\", line 2066, in _train_single_full\n",
      "    hpo_models, hpo_results = model.hyperparameter_tune(\n",
      "  File \"/opt/conda/lib/python3.10/site-packages/autogluon/core/models/abstract/abstract_model.py\", line 1385, in hyperparameter_tune\n",
      "    hpo_executor.initialize(hyperparameter_tune_kwargs, default_num_trials=default_num_trials, time_limit=time_limit)\n",
      "  File \"/opt/conda/lib/python3.10/site-packages/autogluon/core/hpo/executors.py\", line 489, in initialize\n",
      "    hyperparameter_tune_kwargs = scheduler_factory(hyperparameter_tune_kwargs, num_trials=num_trials, nthreads_per_trial=\"auto\", ngpus_per_trial=\"auto\")\n",
      "  File \"/opt/conda/lib/python3.10/site-packages/autogluon/core/scheduler/scheduler_factory.py\", line 70, in scheduler_factory\n",
      "    raise ValueError(f\"Required key 'scheduler' is not present in hyperparameter_tune_kwargs: {hyperparameter_tune_kwargs}\")\n",
      "ValueError: Required key 'scheduler' is not present in hyperparameter_tune_kwargs: {'searcher': 'bayesopt', 'num_trials': 20}\n",
      "Required key 'scheduler' is not present in hyperparameter_tune_kwargs: {'searcher': 'bayesopt', 'num_trials': 20}\n",
      "Hyperparameter tuning model: LightGBM ...\n",
      "Warning: Exception caused LightGBM to fail during hyperparameter tuning... Skipping this model.\n",
      "Traceback (most recent call last):\n",
      "  File \"/opt/conda/lib/python3.10/site-packages/autogluon/core/trainer/abstract_trainer.py\", line 2066, in _train_single_full\n",
      "    hpo_models, hpo_results = model.hyperparameter_tune(\n",
      "  File \"/opt/conda/lib/python3.10/site-packages/autogluon/core/models/abstract/abstract_model.py\", line 1385, in hyperparameter_tune\n",
      "    hpo_executor.initialize(hyperparameter_tune_kwargs, default_num_trials=default_num_trials, time_limit=time_limit)\n",
      "  File \"/opt/conda/lib/python3.10/site-packages/autogluon/core/hpo/executors.py\", line 489, in initialize\n",
      "    hyperparameter_tune_kwargs = scheduler_factory(hyperparameter_tune_kwargs, num_trials=num_trials, nthreads_per_trial=\"auto\", ngpus_per_trial=\"auto\")\n",
      "  File \"/opt/conda/lib/python3.10/site-packages/autogluon/core/scheduler/scheduler_factory.py\", line 70, in scheduler_factory\n",
      "    raise ValueError(f\"Required key 'scheduler' is not present in hyperparameter_tune_kwargs: {hyperparameter_tune_kwargs}\")\n",
      "ValueError: Required key 'scheduler' is not present in hyperparameter_tune_kwargs: {'searcher': 'bayesopt', 'num_trials': 20}\n",
      "Required key 'scheduler' is not present in hyperparameter_tune_kwargs: {'searcher': 'bayesopt', 'num_trials': 20}\n",
      "Hyperparameter tuning model: RandomForestMSE ...\n",
      "Warning: Exception caused RandomForestMSE to fail during hyperparameter tuning... Skipping this model.\n",
      "Traceback (most recent call last):\n",
      "  File \"/opt/conda/lib/python3.10/site-packages/autogluon/core/trainer/abstract_trainer.py\", line 2066, in _train_single_full\n",
      "    hpo_models, hpo_results = model.hyperparameter_tune(\n",
      "  File \"/opt/conda/lib/python3.10/site-packages/autogluon/core/models/abstract/abstract_model.py\", line 1385, in hyperparameter_tune\n",
      "    hpo_executor.initialize(hyperparameter_tune_kwargs, default_num_trials=default_num_trials, time_limit=time_limit)\n",
      "  File \"/opt/conda/lib/python3.10/site-packages/autogluon/core/hpo/executors.py\", line 489, in initialize\n",
      "    hyperparameter_tune_kwargs = scheduler_factory(hyperparameter_tune_kwargs, num_trials=num_trials, nthreads_per_trial=\"auto\", ngpus_per_trial=\"auto\")\n",
      "  File \"/opt/conda/lib/python3.10/site-packages/autogluon/core/scheduler/scheduler_factory.py\", line 70, in scheduler_factory\n",
      "    raise ValueError(f\"Required key 'scheduler' is not present in hyperparameter_tune_kwargs: {hyperparameter_tune_kwargs}\")\n",
      "ValueError: Required key 'scheduler' is not present in hyperparameter_tune_kwargs: {'searcher': 'bayesopt', 'num_trials': 20}\n",
      "Required key 'scheduler' is not present in hyperparameter_tune_kwargs: {'searcher': 'bayesopt', 'num_trials': 20}\n",
      "Hyperparameter tuning model: CatBoost ...\n",
      "Warning: Exception caused CatBoost to fail during hyperparameter tuning... Skipping this model.\n",
      "Traceback (most recent call last):\n",
      "  File \"/opt/conda/lib/python3.10/site-packages/autogluon/core/trainer/abstract_trainer.py\", line 2066, in _train_single_full\n",
      "    hpo_models, hpo_results = model.hyperparameter_tune(\n",
      "  File \"/opt/conda/lib/python3.10/site-packages/autogluon/core/models/abstract/abstract_model.py\", line 1385, in hyperparameter_tune\n",
      "    hpo_executor.initialize(hyperparameter_tune_kwargs, default_num_trials=default_num_trials, time_limit=time_limit)\n",
      "  File \"/opt/conda/lib/python3.10/site-packages/autogluon/core/hpo/executors.py\", line 489, in initialize\n",
      "    hyperparameter_tune_kwargs = scheduler_factory(hyperparameter_tune_kwargs, num_trials=num_trials, nthreads_per_trial=\"auto\", ngpus_per_trial=\"auto\")\n",
      "  File \"/opt/conda/lib/python3.10/site-packages/autogluon/core/scheduler/scheduler_factory.py\", line 70, in scheduler_factory\n",
      "    raise ValueError(f\"Required key 'scheduler' is not present in hyperparameter_tune_kwargs: {hyperparameter_tune_kwargs}\")\n",
      "ValueError: Required key 'scheduler' is not present in hyperparameter_tune_kwargs: {'searcher': 'bayesopt', 'num_trials': 20}\n",
      "Required key 'scheduler' is not present in hyperparameter_tune_kwargs: {'searcher': 'bayesopt', 'num_trials': 20}\n",
      "Hyperparameter tuning model: ExtraTreesMSE ...\n",
      "Warning: Exception caused ExtraTreesMSE to fail during hyperparameter tuning... Skipping this model.\n",
      "Traceback (most recent call last):\n",
      "  File \"/opt/conda/lib/python3.10/site-packages/autogluon/core/trainer/abstract_trainer.py\", line 2066, in _train_single_full\n",
      "    hpo_models, hpo_results = model.hyperparameter_tune(\n",
      "  File \"/opt/conda/lib/python3.10/site-packages/autogluon/core/models/abstract/abstract_model.py\", line 1385, in hyperparameter_tune\n",
      "    hpo_executor.initialize(hyperparameter_tune_kwargs, default_num_trials=default_num_trials, time_limit=time_limit)\n",
      "  File \"/opt/conda/lib/python3.10/site-packages/autogluon/core/hpo/executors.py\", line 489, in initialize\n",
      "    hyperparameter_tune_kwargs = scheduler_factory(hyperparameter_tune_kwargs, num_trials=num_trials, nthreads_per_trial=\"auto\", ngpus_per_trial=\"auto\")\n",
      "  File \"/opt/conda/lib/python3.10/site-packages/autogluon/core/scheduler/scheduler_factory.py\", line 70, in scheduler_factory\n",
      "    raise ValueError(f\"Required key 'scheduler' is not present in hyperparameter_tune_kwargs: {hyperparameter_tune_kwargs}\")\n",
      "ValueError: Required key 'scheduler' is not present in hyperparameter_tune_kwargs: {'searcher': 'bayesopt', 'num_trials': 20}\n",
      "Required key 'scheduler' is not present in hyperparameter_tune_kwargs: {'searcher': 'bayesopt', 'num_trials': 20}\n",
      "Hyperparameter tuning model: NeuralNetFastAI ...\n",
      "Will use custom hpo logic because ray import failed. Reason: ray is required to train folds in parallel for TabularPredictor or HPO for MultiModalPredictor. A quick tip is to install via `pip install ray==2.6.3`\n",
      "Warning: Exception caused NeuralNetFastAI to fail during hyperparameter tuning... Skipping this model.\n",
      "Traceback (most recent call last):\n",
      "  File \"/opt/conda/lib/python3.10/site-packages/autogluon/core/trainer/abstract_trainer.py\", line 2066, in _train_single_full\n",
      "    hpo_models, hpo_results = model.hyperparameter_tune(\n",
      "  File \"/opt/conda/lib/python3.10/site-packages/autogluon/core/models/abstract/abstract_model.py\", line 1385, in hyperparameter_tune\n",
      "    hpo_executor.initialize(hyperparameter_tune_kwargs, default_num_trials=default_num_trials, time_limit=time_limit)\n",
      "  File \"/opt/conda/lib/python3.10/site-packages/autogluon/core/hpo/executors.py\", line 489, in initialize\n",
      "    hyperparameter_tune_kwargs = scheduler_factory(hyperparameter_tune_kwargs, num_trials=num_trials, nthreads_per_trial=\"auto\", ngpus_per_trial=\"auto\")\n",
      "  File \"/opt/conda/lib/python3.10/site-packages/autogluon/core/scheduler/scheduler_factory.py\", line 70, in scheduler_factory\n",
      "    raise ValueError(f\"Required key 'scheduler' is not present in hyperparameter_tune_kwargs: {hyperparameter_tune_kwargs}\")\n",
      "ValueError: Required key 'scheduler' is not present in hyperparameter_tune_kwargs: {'searcher': 'bayesopt', 'num_trials': 20}\n",
      "Required key 'scheduler' is not present in hyperparameter_tune_kwargs: {'searcher': 'bayesopt', 'num_trials': 20}\n",
      "Hyperparameter tuning model: XGBoost ...\n",
      "Warning: Exception caused XGBoost to fail during hyperparameter tuning... Skipping this model.\n",
      "Traceback (most recent call last):\n",
      "  File \"/opt/conda/lib/python3.10/site-packages/autogluon/core/trainer/abstract_trainer.py\", line 2066, in _train_single_full\n",
      "    hpo_models, hpo_results = model.hyperparameter_tune(\n",
      "  File \"/opt/conda/lib/python3.10/site-packages/autogluon/core/models/abstract/abstract_model.py\", line 1385, in hyperparameter_tune\n",
      "    hpo_executor.initialize(hyperparameter_tune_kwargs, default_num_trials=default_num_trials, time_limit=time_limit)\n",
      "  File \"/opt/conda/lib/python3.10/site-packages/autogluon/core/hpo/executors.py\", line 489, in initialize\n",
      "    hyperparameter_tune_kwargs = scheduler_factory(hyperparameter_tune_kwargs, num_trials=num_trials, nthreads_per_trial=\"auto\", ngpus_per_trial=\"auto\")\n",
      "  File \"/opt/conda/lib/python3.10/site-packages/autogluon/core/scheduler/scheduler_factory.py\", line 70, in scheduler_factory\n",
      "    raise ValueError(f\"Required key 'scheduler' is not present in hyperparameter_tune_kwargs: {hyperparameter_tune_kwargs}\")\n",
      "ValueError: Required key 'scheduler' is not present in hyperparameter_tune_kwargs: {'searcher': 'bayesopt', 'num_trials': 20}\n",
      "Required key 'scheduler' is not present in hyperparameter_tune_kwargs: {'searcher': 'bayesopt', 'num_trials': 20}\n",
      "Hyperparameter tuning model: NeuralNetTorch ...\n",
      "Warning: Exception caused NeuralNetTorch to fail during hyperparameter tuning... Skipping this model.\n",
      "Traceback (most recent call last):\n",
      "  File \"/opt/conda/lib/python3.10/site-packages/autogluon/core/trainer/abstract_trainer.py\", line 2066, in _train_single_full\n",
      "    hpo_models, hpo_results = model.hyperparameter_tune(\n",
      "  File \"/opt/conda/lib/python3.10/site-packages/autogluon/core/models/abstract/abstract_model.py\", line 1385, in hyperparameter_tune\n",
      "    hpo_executor.initialize(hyperparameter_tune_kwargs, default_num_trials=default_num_trials, time_limit=time_limit)\n",
      "  File \"/opt/conda/lib/python3.10/site-packages/autogluon/core/hpo/executors.py\", line 489, in initialize\n",
      "    hyperparameter_tune_kwargs = scheduler_factory(hyperparameter_tune_kwargs, num_trials=num_trials, nthreads_per_trial=\"auto\", ngpus_per_trial=\"auto\")\n",
      "  File \"/opt/conda/lib/python3.10/site-packages/autogluon/core/scheduler/scheduler_factory.py\", line 70, in scheduler_factory\n",
      "    raise ValueError(f\"Required key 'scheduler' is not present in hyperparameter_tune_kwargs: {hyperparameter_tune_kwargs}\")\n",
      "ValueError: Required key 'scheduler' is not present in hyperparameter_tune_kwargs: {'searcher': 'bayesopt', 'num_trials': 20}\n",
      "Required key 'scheduler' is not present in hyperparameter_tune_kwargs: {'searcher': 'bayesopt', 'num_trials': 20}\n",
      "Fitting model: LightGBMLarge ...\n",
      "/opt/conda/lib/python3.10/site-packages/dask/dataframe/_pyarrow_compat.py:17: FutureWarning: Minimal version of pyarrow will soon be increased to 14.0.1. You are using 12.0.1. Please consider upgrading.\n",
      "  warnings.warn(\n",
      "/opt/conda/lib/python3.10/site-packages/dask/dataframe/__init__.py:31: FutureWarning: \n",
      "Dask dataframe query planning is disabled because dask-expr is not installed.\n",
      "\n",
      "You can install it with `pip install dask[dataframe]` or `conda install dask`.\n",
      "This will raise in a future version.\n",
      "\n",
      "  warnings.warn(msg, FutureWarning)\n",
      "\t-133.006\t = Validation score   (-root_mean_squared_error)\n",
      "\t4.93s\t = Training   runtime\n",
      "\t0.07s\t = Validation runtime\n",
      "Fitting model: WeightedEnsemble_L2 ...\n",
      "\t-133.006\t = Validation score   (-root_mean_squared_error)\n",
      "\t0.01s\t = Training   runtime\n",
      "\t0.0s\t = Validation runtime\n",
      "AutoGluon training complete, total runtime = 5.5s ... Best model: \"WeightedEnsemble_L2\"\n",
      "TabularPredictor saved. To load, use: predictor = TabularPredictor.load(\"AutogluonModels/ag-20240506_103018\")\n"
     ]
    },
    {
     "name": "stdout",
     "output_type": "stream",
     "text": [
      "*** Summary of fit() ***\n",
      "Estimated performance of each model:\n",
      "                 model   score_val  pred_time_val  fit_time  pred_time_val_marginal  fit_time_marginal  stack_level  can_infer  fit_order\n",
      "0        LightGBMLarge -133.005984       0.071803  4.932824                0.071803           4.932824            1       True          1\n",
      "1  WeightedEnsemble_L2 -133.005984       0.072413  4.938401                0.000611           0.005578            2       True          2\n",
      "Number of models trained: 2\n",
      "Types of models trained:\n",
      "{'LGBModel', 'WeightedEnsembleModel'}\n",
      "Bagging used: False \n",
      "Multi-layer stack-ensembling used: False \n",
      "Feature Metadata (Processed):\n",
      "(raw dtype, special dtypes):\n",
      "('float', [])                : 3 | ['temp', 'atemp', 'windspeed']\n",
      "('int', [])                  : 3 | ['season', 'weather', 'humidity']\n",
      "('int', ['bool'])            : 2 | ['holiday', 'workingday']\n",
      "('int', ['datetime_as_int']) : 5 | ['datetime', 'datetime.year', 'datetime.month', 'datetime.day', 'datetime.dayofweek']\n",
      "*** End of fit() summary ***\n",
      "{'model_types': {'LightGBMLarge': 'LGBModel', 'WeightedEnsemble_L2': 'WeightedEnsembleModel'}, 'model_performance': {'LightGBMLarge': -133.00598394759368, 'WeightedEnsemble_L2': -133.00598394759368}, 'model_best': 'WeightedEnsemble_L2', 'model_paths': {'LightGBMLarge': ['LightGBMLarge'], 'WeightedEnsemble_L2': ['WeightedEnsemble_L2']}, 'model_fit_times': {'LightGBMLarge': 4.932823657989502, 'WeightedEnsemble_L2': 0.005577802658081055}, 'model_pred_times': {'LightGBMLarge': 0.07180261611938477, 'WeightedEnsemble_L2': 0.0006108283996582031}, 'num_bag_folds': 0, 'max_stack_level': 2, 'model_hyperparams': {'LightGBMLarge': {'learning_rate': 0.03, 'num_leaves': 128, 'feature_fraction': 0.9, 'min_data_in_leaf': 5}, 'WeightedEnsemble_L2': {'use_orig_features': False, 'max_base_models': 25, 'max_base_models_per_type': 5, 'save_bag_folds': True}}, 'leaderboard':                  model   score_val  pred_time_val  fit_time  \\\n",
      "0        LightGBMLarge -133.005984       0.071803  4.932824   \n",
      "1  WeightedEnsemble_L2 -133.005984       0.072413  4.938401   \n",
      "\n",
      "   pred_time_val_marginal  fit_time_marginal  stack_level  can_infer  \\\n",
      "0                0.071803           4.932824            1       True   \n",
      "1                0.000611           0.005578            2       True   \n",
      "\n",
      "   fit_order  \n",
      "0          1  \n",
      "1          2  }\n"
     ]
    },
    {
     "name": "stderr",
     "output_type": "stream",
     "text": [
      "/opt/conda/lib/python3.10/site-packages/autogluon/core/utils/plots.py:169: UserWarning: AutoGluon summary plots cannot be created because bokeh is not installed. To see plots, please do: \"pip install bokeh==2.0.1\"\n",
      "  warnings.warn('AutoGluon summary plots cannot be created because bokeh is not installed. To see plots, please do: \"pip install bokeh==2.0.1\"')\n"
     ]
    }
   ],
   "source": [
    "# Define the predictor and fit the model\n",
    "learner_kwargs={\"ignored_columns\": [\"casual\", \"registered\"]}\n",
    "predictor = TabularPredictor(label='count', eval_metric='root_mean_squared_error', learner_kwargs=learner_kwargs).fit(train, hyperparameter_tune_kwargs={\"searcher\": \"bayesopt\", \"num_trials\": 20})\n",
    "print(predictor.fit_summary())"
   ]
  },
  {
   "cell_type": "code",
   "execution_count": 12,
   "id": "da4f2163-42cd-4ba9-bdf7-655687bc2777",
   "metadata": {
    "scrolled": true
   },
   "outputs": [
    {
     "name": "stdout",
     "output_type": "stream",
     "text": [
      "0    68.376534\n",
      "1    56.183132\n",
      "2    56.183132\n",
      "3    48.234161\n",
      "4    48.234161\n",
      "Name: count, dtype: float32\n"
     ]
    }
   ],
   "source": [
    "# Make predictions on the test set\n",
    "predictions = predictor.predict(test)\n",
    "print(predictions.head())\n"
   ]
  },
  {
   "cell_type": "code",
   "execution_count": 13,
   "id": "0d5499a6-d1e8-4a32-884f-85ae2b7ec183",
   "metadata": {},
   "outputs": [],
   "source": [
    "# KeyError: \"2 required columns are missing from the provided dataset to transform using AutoMLPipelineFeatureGenerator. \n",
    "# 2 missing columns: ['casual', 'registered'] | 9 available columns: ['datetime', 'season', 'holiday', 'workingday',\n",
    "# 'weather', 'temp', 'atemp', 'humidity', 'windspeed']\"\n",
    "# As it didn't work, i will drop the two unused coloumns as in line 9"
   ]
  },
  {
   "cell_type": "code",
   "execution_count": 14,
   "id": "afcd7240-9e1a-4532-8b31-bb6208c832da",
   "metadata": {},
   "outputs": [
    {
     "name": "stdout",
     "output_type": "stream",
     "text": [
      "count    6493.000000\n",
      "mean      196.728500\n",
      "std       125.114197\n",
      "min        -3.578743\n",
      "25%       101.350777\n",
      "50%       166.528580\n",
      "75%       269.329529\n",
      "max       642.697754\n",
      "Name: count, dtype: float64\n"
     ]
    }
   ],
   "source": [
    "# Describe the `predictions` series to see if there are any negative values\n",
    "print(predictions.describe())"
   ]
  },
  {
   "cell_type": "code",
   "execution_count": 15,
   "id": "3b8406a9-1af0-4334-ae0f-b7fd1e4e6e14",
   "metadata": {},
   "outputs": [
    {
     "name": "stdout",
     "output_type": "stream",
     "text": [
      "8\n"
     ]
    }
   ],
   "source": [
    "# How many negative values do we have?\n",
    "print((predictions < 0).sum())"
   ]
  },
  {
   "cell_type": "code",
   "execution_count": 16,
   "id": "c85fb55c-47b6-4c24-9df4-a128b68b3241",
   "metadata": {},
   "outputs": [],
   "source": [
    "# Set them to zero\n",
    "predictions[predictions < 0] = 0"
   ]
  },
  {
   "cell_type": "code",
   "execution_count": 17,
   "id": "68c435cc-8d64-435c-8aba-6e5985af06dc",
   "metadata": {},
   "outputs": [],
   "source": [
    "# Set the predictions to the 'count' column of the submission dataframe\n",
    "submission[\"count\"] = predictions\n",
    "\n",
    "# Save the submission dataframe to a CSV file\n",
    "submission.to_csv(\"submission.csv\", index=False)"
   ]
  },
  {
   "cell_type": "code",
   "execution_count": 18,
   "id": "3bb6bfc9-1e5e-48e1-a3ae-1a01774c91a8",
   "metadata": {},
   "outputs": [
    {
     "name": "stdout",
     "output_type": "stream",
     "text": [
      "100%|█████████████████████████████████████████| 188k/188k [00:00<00:00, 673kB/s]\n",
      "Successfully submitted to Bike Sharing Demand"
     ]
    }
   ],
   "source": [
    "!kaggle competitions submit -c bike-sharing-demand -f submission.csv -m \"first raw submission\""
   ]
  },
  {
   "cell_type": "code",
   "execution_count": 19,
   "id": "e0bf1ece-2127-4203-8911-4465ae577a46",
   "metadata": {},
   "outputs": [
    {
     "name": "stdout",
     "output_type": "stream",
     "text": [
      "fileName                     date                 description                        status    publicScore  privateScore  \n",
      "---------------------------  -------------------  ---------------------------------  --------  -----------  ------------  \n",
      "submission.csv               2024-05-06 10:30:25  first raw submission               complete  1.33653      1.33653       \n",
      "submission_new_hpo.csv       2024-05-05 17:44:58  new features with hyperparameters  complete  0.536        0.536         \n",
      "submission_new_features.csv  2024-05-05 17:44:07  new features                       complete  0.536        0.536         \n",
      "submission_new_features.csv  2024-05-05 17:43:48  new features                       complete  0.536        0.536         \n"
     ]
    }
   ],
   "source": [
    "!kaggle competitions submissions -c bike-sharing-demand | tail -n +1 | head -n 6"
   ]
  },
  {
   "cell_type": "code",
   "execution_count": 20,
   "id": "00a75c93-a6d6-4aef-b4cf-6c9cb3c0f969",
   "metadata": {},
   "outputs": [
    {
     "data": {
      "text/plain": [
       "array([[<Axes: title={'center': 'datetime'}>,\n",
       "        <Axes: title={'center': 'season'}>,\n",
       "        <Axes: title={'center': 'holiday'}>],\n",
       "       [<Axes: title={'center': 'workingday'}>,\n",
       "        <Axes: title={'center': 'weather'}>,\n",
       "        <Axes: title={'center': 'temp'}>],\n",
       "       [<Axes: title={'center': 'atemp'}>,\n",
       "        <Axes: title={'center': 'humidity'}>,\n",
       "        <Axes: title={'center': 'windspeed'}>],\n",
       "       [<Axes: title={'center': 'count'}>, <Axes: >, <Axes: >]],\n",
       "      dtype=object)"
      ]
     },
     "execution_count": 20,
     "metadata": {},
     "output_type": "execute_result"
    },
    {
     "data": {
      "image/png": "[encoded data removed]",
      "text/plain": [
       "<Figure size 1500x1000 with 12 Axes>"
      ]
     },
     "metadata": {},
     "output_type": "display_data"
    }
   ],
   "source": [
    "# Create a histogram of all features to show the distribution of each one relative to the data\n",
    "train.hist(figsize=(15,10))"
   ]
  },
  {
   "cell_type": "code",
   "execution_count": 21,
   "id": "ec347aa8-182d-4f87-823b-9ad9ca7e660d",
   "metadata": {},
   "outputs": [],
   "source": [
    "# Create a new feature, for example, the hour from the datetime\n",
    "train['hour'] = train['datetime'].dt.hour\n",
    "test['hour'] = test['datetime'].dt.hour"
   ]
  },
  {
   "cell_type": "code",
   "execution_count": 22,
   "id": "ef1ebd58-c0b1-4499-b2d1-046b47d949b7",
   "metadata": {},
   "outputs": [],
   "source": [
    "# Convert 'season' and 'weather' columns to categorical type\n",
    "train[\"season\"] = train[\"season\"].astype('category')\n",
    "train[\"weather\"] = train[\"weather\"].astype('category')\n",
    "test[\"season\"] = test[\"season\"].astype('category')\n",
    "test[\"weather\"] = test[\"weather\"].astype('category')"
   ]
  },
  {
   "cell_type": "code",
   "execution_count": 23,
   "id": "46482fc2-2eff-49c0-aecd-578e640ac600",
   "metadata": {},
   "outputs": [
    {
     "name": "stdout",
     "output_type": "stream",
     "text": [
      "             datetime season  holiday  workingday weather  temp   atemp  \\\n",
      "0 2011-01-01 00:00:00      1        0           0       1  9.84  14.395   \n",
      "1 2011-01-01 01:00:00      1        0           0       1  9.02  13.635   \n",
      "2 2011-01-01 02:00:00      1        0           0       1  9.02  13.635   \n",
      "3 2011-01-01 03:00:00      1        0           0       1  9.84  14.395   \n",
      "4 2011-01-01 04:00:00      1        0           0       1  9.84  14.395   \n",
      "\n",
      "   humidity  windspeed  count  hour  \n",
      "0        81        0.0     16     0  \n",
      "1        80        0.0     40     1  \n",
      "2        80        0.0     32     2  \n",
      "3        75        0.0     13     3  \n",
      "4        75        0.0      1     4  \n"
     ]
    }
   ],
   "source": [
    "# View the new feature\n",
    "print(train.head())"
   ]
  },
  {
   "cell_type": "code",
   "execution_count": 24,
   "id": "b20856b6-2202-44d6-916b-9a25bd756dd1",
   "metadata": {},
   "outputs": [
    {
     "data": {
      "text/plain": [
       "array([[<Axes: title={'center': 'datetime'}>,\n",
       "        <Axes: title={'center': 'holiday'}>,\n",
       "        <Axes: title={'center': 'workingday'}>],\n",
       "       [<Axes: title={'center': 'temp'}>,\n",
       "        <Axes: title={'center': 'atemp'}>,\n",
       "        <Axes: title={'center': 'humidity'}>],\n",
       "       [<Axes: title={'center': 'windspeed'}>,\n",
       "        <Axes: title={'center': 'count'}>,\n",
       "        <Axes: title={'center': 'hour'}>]], dtype=object)"
      ]
     },
     "execution_count": 24,
     "metadata": {},
     "output_type": "execute_result"
    },
    {
     "data": {
      "image/png": "[encoded data removed]",
      "text/plain": [
       "<Figure size 1500x1000 with 9 Axes>"
      ]
     },
     "metadata": {},
     "output_type": "display_data"
    }
   ],
   "source": [
    "# View histogram of all features again now with the hour feature\n",
    "train.hist(figsize=(15,10))"
   ]
  },
  {
   "cell_type": "code",
   "execution_count": 25,
   "id": "547d4580-26f2-434c-81b5-4bff5724a067",
   "metadata": {
    "scrolled": true
   },
   "outputs": [
    {
     "name": "stderr",
     "output_type": "stream",
     "text": [
      "No path specified. Models will be saved in: \"AutogluonModels/ag-20240506_103032\"\n",
      "Warning: hyperparameter tuning is currently experimental and may cause the process to hang.\n",
      "/opt/conda/lib/python3.10/site-packages/autogluon/core/utils/utils.py:564: FutureWarning: use_inf_as_na option is deprecated and will be removed in a future version. Convert inf values to NaN before operating instead.\n",
      "  with pd.option_context(\"mode.use_inf_as_na\", True):  # treat None, NaN, INF, NINF as NA\n",
      "Beginning AutoGluon training ...\n",
      "AutoGluon will save models to \"AutogluonModels/ag-20240506_103032\"\n",
      "AutoGluon Version:  0.8.2\n",
      "Python Version:     3.10.14\n",
      "Operating System:   Linux\n",
      "Platform Machine:   x86_64\n",
      "Platform Version:   #1 SMP Sat Mar 23 09:49:55 UTC 2024\n",
      "Disk Space Avail:   3.56 GB / 10.73 GB (33.2%)\n",
      "\tWARNING: Available disk space is low and there is a risk that AutoGluon will run out of disk during fit, causing an exception. \n",
      "\tWe recommend a minimum available disk space of 10 GB, and large datasets may require more.\n",
      "Train Data Rows:    10886\n",
      "Train Data Columns: 10\n",
      "Label Column: count\n",
      "Preprocessing data ...\n",
      "/opt/conda/lib/python3.10/site-packages/autogluon/core/utils/utils.py:564: FutureWarning: use_inf_as_na option is deprecated and will be removed in a future version. Convert inf values to NaN before operating instead.\n",
      "  with pd.option_context(\"mode.use_inf_as_na\", True):  # treat None, NaN, INF, NINF as NA\n",
      "AutoGluon infers your prediction problem is: 'regression' (because dtype of label-column == int and many unique label-values observed).\n",
      "\tLabel info (max, min, mean, stddev): (977, 1, 191.57413, 181.14445)\n",
      "\tIf 'regression' is not the correct problem_type, please manually specify the problem_type parameter during predictor init (You may specify problem_type as one of: ['binary', 'multiclass', 'regression'])\n",
      "/opt/conda/lib/python3.10/site-packages/autogluon/tabular/learner/default_learner.py:215: FutureWarning: use_inf_as_na option is deprecated and will be removed in a future version. Convert inf values to NaN before operating instead.\n",
      "  with pd.option_context(\"mode.use_inf_as_na\", True):  # treat None, NaN, INF, NINF as NA\n",
      "Using Feature Generators to preprocess the data ...\n",
      "Dropping user-specified ignored columns: ['casual', 'registered']\n",
      "Fitting AutoMLPipelineFeatureGenerator...\n",
      "\tAvailable Memory:                    2480.08 MB\n",
      "\tTrain Data (Original)  Memory Usage: 0.68 MB (0.0% of available memory)\n",
      "\tInferring data type of each feature based on column values. Set feature_metadata_in to manually specify special dtypes of the features.\n",
      "\tStage 1 Generators:\n",
      "\t\tFitting AsTypeFeatureGenerator...\n",
      "\t\t\tNote: Converting 2 features to boolean dtype as they only contain 2 unique values.\n",
      "\tStage 2 Generators:\n",
      "\t\tFitting FillNaFeatureGenerator...\n",
      "\tStage 3 Generators:\n",
      "\t\tFitting IdentityFeatureGenerator...\n",
      "\t\tFitting CategoryFeatureGenerator...\n",
      "\t\t\tFitting CategoryMemoryMinimizeFeatureGenerator...\n",
      "\t\tFitting DatetimeFeatureGenerator...\n",
      "\tStage 4 Generators:\n",
      "\t\tFitting DropUniqueFeatureGenerator...\n",
      "\tStage 5 Generators:\n",
      "\t\tFitting DropDuplicatesFeatureGenerator...\n",
      "\tTypes of features in original data (raw dtype, special dtypes):\n",
      "\t\t('category', []) : 2 | ['season', 'weather']\n",
      "\t\t('datetime', []) : 1 | ['datetime']\n",
      "\t\t('float', [])    : 3 | ['temp', 'atemp', 'windspeed']\n",
      "\t\t('int', [])      : 4 | ['holiday', 'workingday', 'humidity', 'hour']\n",
      "\tTypes of features in processed data (raw dtype, special dtypes):\n",
      "\t\t('category', [])             : 2 | ['season', 'weather']\n",
      "\t\t('float', [])                : 3 | ['temp', 'atemp', 'windspeed']\n",
      "\t\t('int', [])                  : 2 | ['humidity', 'hour']\n",
      "\t\t('int', ['bool'])            : 2 | ['holiday', 'workingday']\n",
      "\t\t('int', ['datetime_as_int']) : 5 | ['datetime', 'datetime.year', 'datetime.month', 'datetime.day', 'datetime.dayofweek']\n",
      "\t0.1s = Fit runtime\n",
      "\t10 features in original data used to generate 14 features in processed data.\n",
      "\tTrain Data (Processed) Memory Usage: 0.87 MB (0.0% of available memory)\n",
      "Data preprocessing and feature engineering runtime = 0.19s ...\n",
      "AutoGluon will gauge predictive performance using evaluation metric: 'root_mean_squared_error'\n",
      "\tThis metric's sign has been flipped to adhere to being higher_is_better. The metric score can be multiplied by -1 to get the metric value.\n",
      "\tTo change this, specify the eval_metric parameter of Predictor()\n",
      "Automatically generating train/validation split with holdout_frac=0.2, Train Rows: 8708, Val Rows: 2178\n",
      "User-specified model hyperparameters to be fit:\n",
      "{\n",
      "\t'NN_TORCH': {},\n",
      "\t'GBM': [{'extra_trees': True, 'ag_args': {'name_suffix': 'XT'}}, {}, 'GBMLarge'],\n",
      "\t'CAT': {},\n",
      "\t'XGB': {},\n",
      "\t'FASTAI': {},\n",
      "\t'RF': [{'criterion': 'gini', 'ag_args': {'name_suffix': 'Gini', 'problem_types': ['binary', 'multiclass']}}, {'criterion': 'entropy', 'ag_args': {'name_suffix': 'Entr', 'problem_types': ['binary', 'multiclass']}}, {'criterion': 'squared_error', 'ag_args': {'name_suffix': 'MSE', 'problem_types': ['regression', 'quantile']}}],\n",
      "\t'XT': [{'criterion': 'gini', 'ag_args': {'name_suffix': 'Gini', 'problem_types': ['binary', 'multiclass']}}, {'criterion': 'entropy', 'ag_args': {'name_suffix': 'Entr', 'problem_types': ['binary', 'multiclass']}}, {'criterion': 'squared_error', 'ag_args': {'name_suffix': 'MSE', 'problem_types': ['regression', 'quantile']}}],\n",
      "\t'KNN': [{'weights': 'uniform', 'ag_args': {'name_suffix': 'Unif'}}, {'weights': 'distance', 'ag_args': {'name_suffix': 'Dist'}}],\n",
      "}\n",
      "Fitting 11 L1 models ...\n",
      "Hyperparameter tuning model: KNeighborsUnif ...\n",
      "Warning: Exception caused KNeighborsUnif to fail during hyperparameter tuning... Skipping this model.\n",
      "Traceback (most recent call last):\n",
      "  File \"/opt/conda/lib/python3.10/site-packages/autogluon/core/trainer/abstract_trainer.py\", line 2066, in _train_single_full\n",
      "    hpo_models, hpo_results = model.hyperparameter_tune(\n",
      "  File \"/opt/conda/lib/python3.10/site-packages/autogluon/core/models/abstract/abstract_model.py\", line 1385, in hyperparameter_tune\n",
      "    hpo_executor.initialize(hyperparameter_tune_kwargs, default_num_trials=default_num_trials, time_limit=time_limit)\n",
      "  File \"/opt/conda/lib/python3.10/site-packages/autogluon/core/hpo/executors.py\", line 489, in initialize\n",
      "    hyperparameter_tune_kwargs = scheduler_factory(hyperparameter_tune_kwargs, num_trials=num_trials, nthreads_per_trial=\"auto\", ngpus_per_trial=\"auto\")\n",
      "  File \"/opt/conda/lib/python3.10/site-packages/autogluon/core/scheduler/scheduler_factory.py\", line 70, in scheduler_factory\n",
      "    raise ValueError(f\"Required key 'scheduler' is not present in hyperparameter_tune_kwargs: {hyperparameter_tune_kwargs}\")\n",
      "ValueError: Required key 'scheduler' is not present in hyperparameter_tune_kwargs: {'searcher': 'bayesopt', 'num_trials': 20}\n",
      "Required key 'scheduler' is not present in hyperparameter_tune_kwargs: {'searcher': 'bayesopt', 'num_trials': 20}\n",
      "Hyperparameter tuning model: KNeighborsDist ...\n",
      "Warning: Exception caused KNeighborsDist to fail during hyperparameter tuning... Skipping this model.\n",
      "Traceback (most recent call last):\n",
      "  File \"/opt/conda/lib/python3.10/site-packages/autogluon/core/trainer/abstract_trainer.py\", line 2066, in _train_single_full\n",
      "    hpo_models, hpo_results = model.hyperparameter_tune(\n",
      "  File \"/opt/conda/lib/python3.10/site-packages/autogluon/core/models/abstract/abstract_model.py\", line 1385, in hyperparameter_tune\n",
      "    hpo_executor.initialize(hyperparameter_tune_kwargs, default_num_trials=default_num_trials, time_limit=time_limit)\n",
      "  File \"/opt/conda/lib/python3.10/site-packages/autogluon/core/hpo/executors.py\", line 489, in initialize\n",
      "    hyperparameter_tune_kwargs = scheduler_factory(hyperparameter_tune_kwargs, num_trials=num_trials, nthreads_per_trial=\"auto\", ngpus_per_trial=\"auto\")\n",
      "  File \"/opt/conda/lib/python3.10/site-packages/autogluon/core/scheduler/scheduler_factory.py\", line 70, in scheduler_factory\n",
      "    raise ValueError(f\"Required key 'scheduler' is not present in hyperparameter_tune_kwargs: {hyperparameter_tune_kwargs}\")\n",
      "ValueError: Required key 'scheduler' is not present in hyperparameter_tune_kwargs: {'searcher': 'bayesopt', 'num_trials': 20}\n",
      "Required key 'scheduler' is not present in hyperparameter_tune_kwargs: {'searcher': 'bayesopt', 'num_trials': 20}\n",
      "Hyperparameter tuning model: LightGBMXT ...\n",
      "Warning: Exception caused LightGBMXT to fail during hyperparameter tuning... Skipping this model.\n",
      "Traceback (most recent call last):\n",
      "  File \"/opt/conda/lib/python3.10/site-packages/autogluon/core/trainer/abstract_trainer.py\", line 2066, in _train_single_full\n",
      "    hpo_models, hpo_results = model.hyperparameter_tune(\n",
      "  File \"/opt/conda/lib/python3.10/site-packages/autogluon/core/models/abstract/abstract_model.py\", line 1385, in hyperparameter_tune\n",
      "    hpo_executor.initialize(hyperparameter_tune_kwargs, default_num_trials=default_num_trials, time_limit=time_limit)\n",
      "  File \"/opt/conda/lib/python3.10/site-packages/autogluon/core/hpo/executors.py\", line 489, in initialize\n",
      "    hyperparameter_tune_kwargs = scheduler_factory(hyperparameter_tune_kwargs, num_trials=num_trials, nthreads_per_trial=\"auto\", ngpus_per_trial=\"auto\")\n",
      "  File \"/opt/conda/lib/python3.10/site-packages/autogluon/core/scheduler/scheduler_factory.py\", line 70, in scheduler_factory\n",
      "    raise ValueError(f\"Required key 'scheduler' is not present in hyperparameter_tune_kwargs: {hyperparameter_tune_kwargs}\")\n",
      "ValueError: Required key 'scheduler' is not present in hyperparameter_tune_kwargs: {'searcher': 'bayesopt', 'num_trials': 20}\n",
      "Required key 'scheduler' is not present in hyperparameter_tune_kwargs: {'searcher': 'bayesopt', 'num_trials': 20}\n",
      "Hyperparameter tuning model: LightGBM ...\n",
      "Warning: Exception caused LightGBM to fail during hyperparameter tuning... Skipping this model.\n",
      "Traceback (most recent call last):\n",
      "  File \"/opt/conda/lib/python3.10/site-packages/autogluon/core/trainer/abstract_trainer.py\", line 2066, in _train_single_full\n",
      "    hpo_models, hpo_results = model.hyperparameter_tune(\n",
      "  File \"/opt/conda/lib/python3.10/site-packages/autogluon/core/models/abstract/abstract_model.py\", line 1385, in hyperparameter_tune\n",
      "    hpo_executor.initialize(hyperparameter_tune_kwargs, default_num_trials=default_num_trials, time_limit=time_limit)\n",
      "  File \"/opt/conda/lib/python3.10/site-packages/autogluon/core/hpo/executors.py\", line 489, in initialize\n",
      "    hyperparameter_tune_kwargs = scheduler_factory(hyperparameter_tune_kwargs, num_trials=num_trials, nthreads_per_trial=\"auto\", ngpus_per_trial=\"auto\")\n",
      "  File \"/opt/conda/lib/python3.10/site-packages/autogluon/core/scheduler/scheduler_factory.py\", line 70, in scheduler_factory\n",
      "    raise ValueError(f\"Required key 'scheduler' is not present in hyperparameter_tune_kwargs: {hyperparameter_tune_kwargs}\")\n",
      "ValueError: Required key 'scheduler' is not present in hyperparameter_tune_kwargs: {'searcher': 'bayesopt', 'num_trials': 20}\n",
      "Required key 'scheduler' is not present in hyperparameter_tune_kwargs: {'searcher': 'bayesopt', 'num_trials': 20}\n",
      "Hyperparameter tuning model: RandomForestMSE ...\n",
      "Warning: Exception caused RandomForestMSE to fail during hyperparameter tuning... Skipping this model.\n",
      "Traceback (most recent call last):\n",
      "  File \"/opt/conda/lib/python3.10/site-packages/autogluon/core/trainer/abstract_trainer.py\", line 2066, in _train_single_full\n",
      "    hpo_models, hpo_results = model.hyperparameter_tune(\n",
      "  File \"/opt/conda/lib/python3.10/site-packages/autogluon/core/models/abstract/abstract_model.py\", line 1385, in hyperparameter_tune\n",
      "    hpo_executor.initialize(hyperparameter_tune_kwargs, default_num_trials=default_num_trials, time_limit=time_limit)\n",
      "  File \"/opt/conda/lib/python3.10/site-packages/autogluon/core/hpo/executors.py\", line 489, in initialize\n",
      "    hyperparameter_tune_kwargs = scheduler_factory(hyperparameter_tune_kwargs, num_trials=num_trials, nthreads_per_trial=\"auto\", ngpus_per_trial=\"auto\")\n",
      "  File \"/opt/conda/lib/python3.10/site-packages/autogluon/core/scheduler/scheduler_factory.py\", line 70, in scheduler_factory\n",
      "    raise ValueError(f\"Required key 'scheduler' is not present in hyperparameter_tune_kwargs: {hyperparameter_tune_kwargs}\")\n",
      "ValueError: Required key 'scheduler' is not present in hyperparameter_tune_kwargs: {'searcher': 'bayesopt', 'num_trials': 20}\n",
      "Required key 'scheduler' is not present in hyperparameter_tune_kwargs: {'searcher': 'bayesopt', 'num_trials': 20}\n",
      "Hyperparameter tuning model: CatBoost ...\n",
      "Warning: Exception caused CatBoost to fail during hyperparameter tuning... Skipping this model.\n",
      "Traceback (most recent call last):\n",
      "  File \"/opt/conda/lib/python3.10/site-packages/autogluon/core/trainer/abstract_trainer.py\", line 2066, in _train_single_full\n",
      "    hpo_models, hpo_results = model.hyperparameter_tune(\n",
      "  File \"/opt/conda/lib/python3.10/site-packages/autogluon/core/models/abstract/abstract_model.py\", line 1385, in hyperparameter_tune\n",
      "    hpo_executor.initialize(hyperparameter_tune_kwargs, default_num_trials=default_num_trials, time_limit=time_limit)\n",
      "  File \"/opt/conda/lib/python3.10/site-packages/autogluon/core/hpo/executors.py\", line 489, in initialize\n",
      "    hyperparameter_tune_kwargs = scheduler_factory(hyperparameter_tune_kwargs, num_trials=num_trials, nthreads_per_trial=\"auto\", ngpus_per_trial=\"auto\")\n",
      "  File \"/opt/conda/lib/python3.10/site-packages/autogluon/core/scheduler/scheduler_factory.py\", line 70, in scheduler_factory\n",
      "    raise ValueError(f\"Required key 'scheduler' is not present in hyperparameter_tune_kwargs: {hyperparameter_tune_kwargs}\")\n",
      "ValueError: Required key 'scheduler' is not present in hyperparameter_tune_kwargs: {'searcher': 'bayesopt', 'num_trials': 20}\n",
      "Required key 'scheduler' is not present in hyperparameter_tune_kwargs: {'searcher': 'bayesopt', 'num_trials': 20}\n",
      "Hyperparameter tuning model: ExtraTreesMSE ...\n",
      "Warning: Exception caused ExtraTreesMSE to fail during hyperparameter tuning... Skipping this model.\n",
      "Traceback (most recent call last):\n",
      "  File \"/opt/conda/lib/python3.10/site-packages/autogluon/core/trainer/abstract_trainer.py\", line 2066, in _train_single_full\n",
      "    hpo_models, hpo_results = model.hyperparameter_tune(\n",
      "  File \"/opt/conda/lib/python3.10/site-packages/autogluon/core/models/abstract/abstract_model.py\", line 1385, in hyperparameter_tune\n",
      "    hpo_executor.initialize(hyperparameter_tune_kwargs, default_num_trials=default_num_trials, time_limit=time_limit)\n",
      "  File \"/opt/conda/lib/python3.10/site-packages/autogluon/core/hpo/executors.py\", line 489, in initialize\n",
      "    hyperparameter_tune_kwargs = scheduler_factory(hyperparameter_tune_kwargs, num_trials=num_trials, nthreads_per_trial=\"auto\", ngpus_per_trial=\"auto\")\n",
      "  File \"/opt/conda/lib/python3.10/site-packages/autogluon/core/scheduler/scheduler_factory.py\", line 70, in scheduler_factory\n",
      "    raise ValueError(f\"Required key 'scheduler' is not present in hyperparameter_tune_kwargs: {hyperparameter_tune_kwargs}\")\n",
      "ValueError: Required key 'scheduler' is not present in hyperparameter_tune_kwargs: {'searcher': 'bayesopt', 'num_trials': 20}\n",
      "Required key 'scheduler' is not present in hyperparameter_tune_kwargs: {'searcher': 'bayesopt', 'num_trials': 20}\n",
      "Hyperparameter tuning model: NeuralNetFastAI ...\n",
      "Warning: Exception caused NeuralNetFastAI to fail during hyperparameter tuning... Skipping this model.\n",
      "Traceback (most recent call last):\n",
      "  File \"/opt/conda/lib/python3.10/site-packages/autogluon/core/trainer/abstract_trainer.py\", line 2066, in _train_single_full\n",
      "    hpo_models, hpo_results = model.hyperparameter_tune(\n",
      "  File \"/opt/conda/lib/python3.10/site-packages/autogluon/core/models/abstract/abstract_model.py\", line 1385, in hyperparameter_tune\n",
      "    hpo_executor.initialize(hyperparameter_tune_kwargs, default_num_trials=default_num_trials, time_limit=time_limit)\n",
      "  File \"/opt/conda/lib/python3.10/site-packages/autogluon/core/hpo/executors.py\", line 489, in initialize\n",
      "    hyperparameter_tune_kwargs = scheduler_factory(hyperparameter_tune_kwargs, num_trials=num_trials, nthreads_per_trial=\"auto\", ngpus_per_trial=\"auto\")\n",
      "  File \"/opt/conda/lib/python3.10/site-packages/autogluon/core/scheduler/scheduler_factory.py\", line 70, in scheduler_factory\n",
      "    raise ValueError(f\"Required key 'scheduler' is not present in hyperparameter_tune_kwargs: {hyperparameter_tune_kwargs}\")\n",
      "ValueError: Required key 'scheduler' is not present in hyperparameter_tune_kwargs: {'searcher': 'bayesopt', 'num_trials': 20}\n",
      "Required key 'scheduler' is not present in hyperparameter_tune_kwargs: {'searcher': 'bayesopt', 'num_trials': 20}\n",
      "Hyperparameter tuning model: XGBoost ...\n",
      "Warning: Exception caused XGBoost to fail during hyperparameter tuning... Skipping this model.\n",
      "Traceback (most recent call last):\n",
      "  File \"/opt/conda/lib/python3.10/site-packages/autogluon/core/trainer/abstract_trainer.py\", line 2066, in _train_single_full\n",
      "    hpo_models, hpo_results = model.hyperparameter_tune(\n",
      "  File \"/opt/conda/lib/python3.10/site-packages/autogluon/core/models/abstract/abstract_model.py\", line 1385, in hyperparameter_tune\n",
      "    hpo_executor.initialize(hyperparameter_tune_kwargs, default_num_trials=default_num_trials, time_limit=time_limit)\n",
      "  File \"/opt/conda/lib/python3.10/site-packages/autogluon/core/hpo/executors.py\", line 489, in initialize\n",
      "    hyperparameter_tune_kwargs = scheduler_factory(hyperparameter_tune_kwargs, num_trials=num_trials, nthreads_per_trial=\"auto\", ngpus_per_trial=\"auto\")\n",
      "  File \"/opt/conda/lib/python3.10/site-packages/autogluon/core/scheduler/scheduler_factory.py\", line 70, in scheduler_factory\n",
      "    raise ValueError(f\"Required key 'scheduler' is not present in hyperparameter_tune_kwargs: {hyperparameter_tune_kwargs}\")\n",
      "ValueError: Required key 'scheduler' is not present in hyperparameter_tune_kwargs: {'searcher': 'bayesopt', 'num_trials': 20}\n",
      "Required key 'scheduler' is not present in hyperparameter_tune_kwargs: {'searcher': 'bayesopt', 'num_trials': 20}\n",
      "Hyperparameter tuning model: NeuralNetTorch ...\n",
      "Warning: Exception caused NeuralNetTorch to fail during hyperparameter tuning... Skipping this model.\n",
      "Traceback (most recent call last):\n",
      "  File \"/opt/conda/lib/python3.10/site-packages/autogluon/core/trainer/abstract_trainer.py\", line 2066, in _train_single_full\n",
      "    hpo_models, hpo_results = model.hyperparameter_tune(\n",
      "  File \"/opt/conda/lib/python3.10/site-packages/autogluon/core/models/abstract/abstract_model.py\", line 1385, in hyperparameter_tune\n",
      "    hpo_executor.initialize(hyperparameter_tune_kwargs, default_num_trials=default_num_trials, time_limit=time_limit)\n",
      "  File \"/opt/conda/lib/python3.10/site-packages/autogluon/core/hpo/executors.py\", line 489, in initialize\n",
      "    hyperparameter_tune_kwargs = scheduler_factory(hyperparameter_tune_kwargs, num_trials=num_trials, nthreads_per_trial=\"auto\", ngpus_per_trial=\"auto\")\n",
      "  File \"/opt/conda/lib/python3.10/site-packages/autogluon/core/scheduler/scheduler_factory.py\", line 70, in scheduler_factory\n",
      "    raise ValueError(f\"Required key 'scheduler' is not present in hyperparameter_tune_kwargs: {hyperparameter_tune_kwargs}\")\n",
      "ValueError: Required key 'scheduler' is not present in hyperparameter_tune_kwargs: {'searcher': 'bayesopt', 'num_trials': 20}\n",
      "Required key 'scheduler' is not present in hyperparameter_tune_kwargs: {'searcher': 'bayesopt', 'num_trials': 20}\n",
      "Fitting model: LightGBMLarge ...\n"
     ]
    },
    {
     "name": "stdout",
     "output_type": "stream",
     "text": [
      "[1000]\tvalid_set's rmse: 35.2436\n"
     ]
    },
    {
     "name": "stderr",
     "output_type": "stream",
     "text": [
      "\t-35.1917\t = Validation score   (-root_mean_squared_error)\n",
      "\t3.67s\t = Training   runtime\n",
      "\t0.36s\t = Validation runtime\n",
      "Fitting model: WeightedEnsemble_L2 ...\n",
      "\t-35.1917\t = Validation score   (-root_mean_squared_error)\n",
      "\t0.0s\t = Training   runtime\n",
      "\t0.0s\t = Validation runtime\n",
      "AutoGluon training complete, total runtime = 4.94s ... Best model: \"WeightedEnsemble_L2\"\n",
      "TabularPredictor saved. To load, use: predictor = TabularPredictor.load(\"AutogluonModels/ag-20240506_103032\")\n"
     ]
    }
   ],
   "source": [
    "# Define the predictor and fit the model with the new feature\n",
    "learner_kwargs={\"ignored_columns\": [\"casual\", \"registered\"]}\n",
    "predictor_new_features = TabularPredictor(label='count', eval_metric='root_mean_squared_error', learner_kwargs=learner_kwargs).fit(train, hyperparameter_tune_kwargs={\"searcher\": \"bayesopt\", \"num_trials\": 20})"
   ]
  },
  {
   "cell_type": "code",
   "execution_count": 26,
   "id": "e16cb7d1-dcbd-41f9-a888-c8beb2b7fd03",
   "metadata": {},
   "outputs": [
    {
     "name": "stdout",
     "output_type": "stream",
     "text": [
      "*** Summary of fit() ***\n",
      "Estimated performance of each model:\n",
      "                 model  score_val  pred_time_val  fit_time  pred_time_val_marginal  fit_time_marginal  stack_level  can_infer  fit_order\n",
      "0        LightGBMLarge -35.191676       0.363567  3.667878                0.363567           3.667878            1       True          1\n",
      "1  WeightedEnsemble_L2 -35.191676       0.363986  3.671035                0.000420           0.003157            2       True          2\n",
      "Number of models trained: 2\n",
      "Types of models trained:\n",
      "{'LGBModel', 'WeightedEnsembleModel'}\n",
      "Bagging used: False \n",
      "Multi-layer stack-ensembling used: False \n",
      "Feature Metadata (Processed):\n",
      "(raw dtype, special dtypes):\n",
      "('category', [])             : 2 | ['season', 'weather']\n",
      "('float', [])                : 3 | ['temp', 'atemp', 'windspeed']\n",
      "('int', [])                  : 2 | ['humidity', 'hour']\n",
      "('int', ['bool'])            : 2 | ['holiday', 'workingday']\n",
      "('int', ['datetime_as_int']) : 5 | ['datetime', 'datetime.year', 'datetime.month', 'datetime.day', 'datetime.dayofweek']\n",
      "*** End of fit() summary ***\n",
      "{'model_types': {'LightGBMLarge': 'LGBModel', 'WeightedEnsemble_L2': 'WeightedEnsembleModel'}, 'model_performance': {'LightGBMLarge': -35.19167599577367, 'WeightedEnsemble_L2': -35.19167599577367}, 'model_best': 'WeightedEnsemble_L2', 'model_paths': {'LightGBMLarge': ['LightGBMLarge'], 'WeightedEnsemble_L2': ['WeightedEnsemble_L2']}, 'model_fit_times': {'LightGBMLarge': 3.6678779125213623, 'WeightedEnsemble_L2': 0.0031566619873046875}, 'model_pred_times': {'LightGBMLarge': 0.36356687545776367, 'WeightedEnsemble_L2': 0.00041961669921875}, 'num_bag_folds': 0, 'max_stack_level': 2, 'model_hyperparams': {'LightGBMLarge': {'learning_rate': 0.03, 'num_leaves': 128, 'feature_fraction': 0.9, 'min_data_in_leaf': 5}, 'WeightedEnsemble_L2': {'use_orig_features': False, 'max_base_models': 25, 'max_base_models_per_type': 5, 'save_bag_folds': True}}, 'leaderboard':                  model  score_val  pred_time_val  fit_time  \\\n",
      "0        LightGBMLarge -35.191676       0.363567  3.667878   \n",
      "1  WeightedEnsemble_L2 -35.191676       0.363986  3.671035   \n",
      "\n",
      "   pred_time_val_marginal  fit_time_marginal  stack_level  can_infer  \\\n",
      "0                0.363567           3.667878            1       True   \n",
      "1                0.000420           0.003157            2       True   \n",
      "\n",
      "   fit_order  \n",
      "0          1  \n",
      "1          2  }\n"
     ]
    },
    {
     "name": "stderr",
     "output_type": "stream",
     "text": [
      "/opt/conda/lib/python3.10/site-packages/autogluon/core/utils/plots.py:169: UserWarning: AutoGluon summary plots cannot be created because bokeh is not installed. To see plots, please do: \"pip install bokeh==2.0.1\"\n",
      "  warnings.warn('AutoGluon summary plots cannot be created because bokeh is not installed. To see plots, please do: \"pip install bokeh==2.0.1\"')\n"
     ]
    }
   ],
   "source": [
    "# Print the summary of the new model\n",
    "print(predictor_new_features.fit_summary())"
   ]
  },
  {
   "cell_type": "code",
   "execution_count": 27,
   "id": "a597e328-c4fc-4afe-a1db-62839809b64f",
   "metadata": {},
   "outputs": [],
   "source": [
    "# Make predictions with the new feature and set all negative values to zero\n",
    "predictions_new_features = predictor_new_features.predict(test)\n",
    "predictions_new_features[predictions_new_features < 0] = 0"
   ]
  },
  {
   "cell_type": "code",
   "execution_count": 28,
   "id": "b401c49a-382a-44f0-a277-6d6dd18c02b3",
   "metadata": {},
   "outputs": [],
   "source": [
    "# Set the new predictions to the 'count' column of the submission dataframe\n",
    "submission[\"count\"] = predictions_new_features"
   ]
  },
  {
   "cell_type": "code",
   "execution_count": 29,
   "id": "5184c884-af42-45e0-86b6-e9ec2b22dcd3",
   "metadata": {},
   "outputs": [],
   "source": [
    "# Save the new submission dataframe to a CSV file\n",
    "submission.to_csv(\"submission_new_features.csv\", index=False)"
   ]
  },
  {
   "cell_type": "code",
   "execution_count": 30,
   "id": "16dac675-821d-4393-bf19-88759931bdb3",
   "metadata": {},
   "outputs": [
    {
     "name": "stdout",
     "output_type": "stream",
     "text": [
      "100%|█████████████████████████████████████████| 188k/188k [00:00<00:00, 636kB/s]\n",
      "Successfully submitted to Bike Sharing Demand"
     ]
    }
   ],
   "source": [
    "!kaggle competitions submit -c bike-sharing-demand -f submission_new_features.csv -m \"new features\""
   ]
  },
  {
   "cell_type": "code",
   "execution_count": 31,
   "id": "c791c266-c9b5-46c3-adf6-a38819f79b37",
   "metadata": {},
   "outputs": [
    {
     "name": "stdout",
     "output_type": "stream",
     "text": [
      "fileName                     date                 description                        status    publicScore  privateScore  \n",
      "---------------------------  -------------------  ---------------------------------  --------  -----------  ------------  \n",
      "submission_new_features.csv  2024-05-06 10:30:39  new features                       complete  0.536        0.536         \n",
      "submission.csv               2024-05-06 10:30:25  first raw submission               complete  1.33653      1.33653       \n",
      "submission_new_hpo.csv       2024-05-05 17:44:58  new features with hyperparameters  complete  0.536        0.536         \n",
      "submission_new_features.csv  2024-05-05 17:44:07  new features                       complete  0.536        0.536         \n"
     ]
    }
   ],
   "source": [
    "!kaggle competitions submissions -c bike-sharing-demand | tail -n +1 | head -n 6"
   ]
  },
  {
   "cell_type": "code",
   "execution_count": 32,
   "id": "b36c4724-b3a9-4859-9a51-1397c1ad2578",
   "metadata": {
    "editable": true,
    "scrolled": true,
    "slideshow": {
     "slide_type": ""
    },
    "tags": []
   },
   "outputs": [
    {
     "name": "stderr",
     "output_type": "stream",
     "text": [
      "No path specified. Models will be saved in: \"AutogluonModels/ag-20240506_103041\"\n",
      "Warning: hyperparameter tuning is currently experimental and may cause the process to hang.\n",
      "/opt/conda/lib/python3.10/site-packages/autogluon/core/utils/utils.py:564: FutureWarning: use_inf_as_na option is deprecated and will be removed in a future version. Convert inf values to NaN before operating instead.\n",
      "  with pd.option_context(\"mode.use_inf_as_na\", True):  # treat None, NaN, INF, NINF as NA\n",
      "Beginning AutoGluon training ...\n",
      "AutoGluon will save models to \"AutogluonModels/ag-20240506_103041\"\n",
      "AutoGluon Version:  0.8.2\n",
      "Python Version:     3.10.14\n",
      "Operating System:   Linux\n",
      "Platform Machine:   x86_64\n",
      "Platform Version:   #1 SMP Sat Mar 23 09:49:55 UTC 2024\n",
      "Disk Space Avail:   3.55 GB / 10.73 GB (33.1%)\n",
      "\tWARNING: Available disk space is low and there is a risk that AutoGluon will run out of disk during fit, causing an exception. \n",
      "\tWe recommend a minimum available disk space of 10 GB, and large datasets may require more.\n",
      "Train Data Rows:    10886\n",
      "Train Data Columns: 10\n",
      "Label Column: count\n",
      "Preprocessing data ...\n",
      "/opt/conda/lib/python3.10/site-packages/autogluon/core/utils/utils.py:564: FutureWarning: use_inf_as_na option is deprecated and will be removed in a future version. Convert inf values to NaN before operating instead.\n",
      "  with pd.option_context(\"mode.use_inf_as_na\", True):  # treat None, NaN, INF, NINF as NA\n",
      "AutoGluon infers your prediction problem is: 'regression' (because dtype of label-column == int and many unique label-values observed).\n",
      "\tLabel info (max, min, mean, stddev): (977, 1, 191.57413, 181.14445)\n",
      "\tIf 'regression' is not the correct problem_type, please manually specify the problem_type parameter during predictor init (You may specify problem_type as one of: ['binary', 'multiclass', 'regression'])\n",
      "/opt/conda/lib/python3.10/site-packages/autogluon/tabular/learner/default_learner.py:215: FutureWarning: use_inf_as_na option is deprecated and will be removed in a future version. Convert inf values to NaN before operating instead.\n",
      "  with pd.option_context(\"mode.use_inf_as_na\", True):  # treat None, NaN, INF, NINF as NA\n",
      "Using Feature Generators to preprocess the data ...\n",
      "Fitting AutoMLPipelineFeatureGenerator...\n",
      "\tAvailable Memory:                    2440.1 MB\n",
      "\tTrain Data (Original)  Memory Usage: 0.68 MB (0.0% of available memory)\n",
      "\tInferring data type of each feature based on column values. Set feature_metadata_in to manually specify special dtypes of the features.\n",
      "\tStage 1 Generators:\n",
      "\t\tFitting AsTypeFeatureGenerator...\n",
      "\t\t\tNote: Converting 2 features to boolean dtype as they only contain 2 unique values.\n",
      "\tStage 2 Generators:\n",
      "\t\tFitting FillNaFeatureGenerator...\n",
      "\tStage 3 Generators:\n",
      "\t\tFitting IdentityFeatureGenerator...\n",
      "\t\tFitting CategoryFeatureGenerator...\n",
      "\t\t\tFitting CategoryMemoryMinimizeFeatureGenerator...\n",
      "\t\tFitting DatetimeFeatureGenerator...\n",
      "\tStage 4 Generators:\n",
      "\t\tFitting DropUniqueFeatureGenerator...\n",
      "\tStage 5 Generators:\n",
      "\t\tFitting DropDuplicatesFeatureGenerator...\n",
      "\tTypes of features in original data (raw dtype, special dtypes):\n",
      "\t\t('category', []) : 2 | ['season', 'weather']\n",
      "\t\t('datetime', []) : 1 | ['datetime']\n",
      "\t\t('float', [])    : 3 | ['temp', 'atemp', 'windspeed']\n",
      "\t\t('int', [])      : 4 | ['holiday', 'workingday', 'humidity', 'hour']\n",
      "\tTypes of features in processed data (raw dtype, special dtypes):\n",
      "\t\t('category', [])             : 2 | ['season', 'weather']\n",
      "\t\t('float', [])                : 3 | ['temp', 'atemp', 'windspeed']\n",
      "\t\t('int', [])                  : 2 | ['humidity', 'hour']\n",
      "\t\t('int', ['bool'])            : 2 | ['holiday', 'workingday']\n",
      "\t\t('int', ['datetime_as_int']) : 5 | ['datetime', 'datetime.year', 'datetime.month', 'datetime.day', 'datetime.dayofweek']\n",
      "\t0.2s = Fit runtime\n",
      "\t10 features in original data used to generate 14 features in processed data.\n",
      "\tTrain Data (Processed) Memory Usage: 0.87 MB (0.0% of available memory)\n",
      "Data preprocessing and feature engineering runtime = 0.19s ...\n",
      "AutoGluon will gauge predictive performance using evaluation metric: 'root_mean_squared_error'\n",
      "\tThis metric's sign has been flipped to adhere to being higher_is_better. The metric score can be multiplied by -1 to get the metric value.\n",
      "\tTo change this, specify the eval_metric parameter of Predictor()\n",
      "Automatically generating train/validation split with holdout_frac=0.2, Train Rows: 8708, Val Rows: 2178\n",
      "User-specified model hyperparameters to be fit:\n",
      "{\n",
      "\t'GBM': [{'num_boost_round': 100, 'learning_rate': 0.1}, 'GBMLarge'],\n",
      "\t'CAT': {'iterations': 100, 'learning_rate': 0.1},\n",
      "\t'XGB': {'n_estimators': 100, 'learning_rate': 0.1},\n",
      "}\n",
      "Fitting 4 L1 models ...\n",
      "Hyperparameter tuning model: LightGBM ...\n",
      "Warning: Exception caused LightGBM to fail during hyperparameter tuning... Skipping this model.\n",
      "Traceback (most recent call last):\n",
      "  File \"/opt/conda/lib/python3.10/site-packages/autogluon/core/trainer/abstract_trainer.py\", line 2066, in _train_single_full\n",
      "    hpo_models, hpo_results = model.hyperparameter_tune(\n",
      "  File \"/opt/conda/lib/python3.10/site-packages/autogluon/core/models/abstract/abstract_model.py\", line 1385, in hyperparameter_tune\n",
      "    hpo_executor.initialize(hyperparameter_tune_kwargs, default_num_trials=default_num_trials, time_limit=time_limit)\n",
      "  File \"/opt/conda/lib/python3.10/site-packages/autogluon/core/hpo/executors.py\", line 489, in initialize\n",
      "    hyperparameter_tune_kwargs = scheduler_factory(hyperparameter_tune_kwargs, num_trials=num_trials, nthreads_per_trial=\"auto\", ngpus_per_trial=\"auto\")\n",
      "  File \"/opt/conda/lib/python3.10/site-packages/autogluon/core/scheduler/scheduler_factory.py\", line 70, in scheduler_factory\n",
      "    raise ValueError(f\"Required key 'scheduler' is not present in hyperparameter_tune_kwargs: {hyperparameter_tune_kwargs}\")\n",
      "ValueError: Required key 'scheduler' is not present in hyperparameter_tune_kwargs: {'searcher': 'bayesopt', 'num_trials': 20}\n",
      "Required key 'scheduler' is not present in hyperparameter_tune_kwargs: {'searcher': 'bayesopt', 'num_trials': 20}\n",
      "Hyperparameter tuning model: CatBoost ...\n",
      "Warning: Exception caused CatBoost to fail during hyperparameter tuning... Skipping this model.\n",
      "Traceback (most recent call last):\n",
      "  File \"/opt/conda/lib/python3.10/site-packages/autogluon/core/trainer/abstract_trainer.py\", line 2066, in _train_single_full\n",
      "    hpo_models, hpo_results = model.hyperparameter_tune(\n",
      "  File \"/opt/conda/lib/python3.10/site-packages/autogluon/core/models/abstract/abstract_model.py\", line 1385, in hyperparameter_tune\n",
      "    hpo_executor.initialize(hyperparameter_tune_kwargs, default_num_trials=default_num_trials, time_limit=time_limit)\n",
      "  File \"/opt/conda/lib/python3.10/site-packages/autogluon/core/hpo/executors.py\", line 489, in initialize\n",
      "    hyperparameter_tune_kwargs = scheduler_factory(hyperparameter_tune_kwargs, num_trials=num_trials, nthreads_per_trial=\"auto\", ngpus_per_trial=\"auto\")\n",
      "  File \"/opt/conda/lib/python3.10/site-packages/autogluon/core/scheduler/scheduler_factory.py\", line 70, in scheduler_factory\n",
      "    raise ValueError(f\"Required key 'scheduler' is not present in hyperparameter_tune_kwargs: {hyperparameter_tune_kwargs}\")\n",
      "ValueError: Required key 'scheduler' is not present in hyperparameter_tune_kwargs: {'searcher': 'bayesopt', 'num_trials': 20}\n",
      "Required key 'scheduler' is not present in hyperparameter_tune_kwargs: {'searcher': 'bayesopt', 'num_trials': 20}\n",
      "Hyperparameter tuning model: XGBoost ...\n",
      "Warning: Exception caused XGBoost to fail during hyperparameter tuning... Skipping this model.\n",
      "Traceback (most recent call last):\n",
      "  File \"/opt/conda/lib/python3.10/site-packages/autogluon/core/trainer/abstract_trainer.py\", line 2066, in _train_single_full\n",
      "    hpo_models, hpo_results = model.hyperparameter_tune(\n",
      "  File \"/opt/conda/lib/python3.10/site-packages/autogluon/core/models/abstract/abstract_model.py\", line 1385, in hyperparameter_tune\n",
      "    hpo_executor.initialize(hyperparameter_tune_kwargs, default_num_trials=default_num_trials, time_limit=time_limit)\n",
      "  File \"/opt/conda/lib/python3.10/site-packages/autogluon/core/hpo/executors.py\", line 489, in initialize\n",
      "    hyperparameter_tune_kwargs = scheduler_factory(hyperparameter_tune_kwargs, num_trials=num_trials, nthreads_per_trial=\"auto\", ngpus_per_trial=\"auto\")\n",
      "  File \"/opt/conda/lib/python3.10/site-packages/autogluon/core/scheduler/scheduler_factory.py\", line 70, in scheduler_factory\n",
      "    raise ValueError(f\"Required key 'scheduler' is not present in hyperparameter_tune_kwargs: {hyperparameter_tune_kwargs}\")\n",
      "ValueError: Required key 'scheduler' is not present in hyperparameter_tune_kwargs: {'searcher': 'bayesopt', 'num_trials': 20}\n",
      "Required key 'scheduler' is not present in hyperparameter_tune_kwargs: {'searcher': 'bayesopt', 'num_trials': 20}\n",
      "Fitting model: LightGBMLarge ...\n"
     ]
    },
    {
     "name": "stdout",
     "output_type": "stream",
     "text": [
      "[1000]\tvalid_set's rmse: 35.2436\n"
     ]
    },
    {
     "name": "stderr",
     "output_type": "stream",
     "text": [
      "\t-35.1917\t = Validation score   (-root_mean_squared_error)\n",
      "\t3.77s\t = Training   runtime\n",
      "\t0.43s\t = Validation runtime\n",
      "Fitting model: WeightedEnsemble_L2 ...\n",
      "\t-35.1917\t = Validation score   (-root_mean_squared_error)\n",
      "\t0.0s\t = Training   runtime\n",
      "\t0.0s\t = Validation runtime\n",
      "AutoGluon training complete, total runtime = 5.27s ... Best model: \"WeightedEnsemble_L2\"\n",
      "TabularPredictor saved. To load, use: predictor = TabularPredictor.load(\"AutogluonModels/ag-20240506_103041\")\n"
     ]
    }
   ],
   "source": [
    "# Define the predictor with new hyperparameters and fit the model with the new feature\n",
    "hyperparameters = {\n",
    "    'GBM': [{'num_boost_round': 100, 'learning_rate': 0.1}, 'GBMLarge'],\n",
    "    'CAT': {'iterations': 100, 'learning_rate': 0.1},\n",
    "    'XGB': {'n_estimators': 100, 'learning_rate': 0.1},\n",
    "}\n",
    "predictor_new_hpo = TabularPredictor(label='count', eval_metric='root_mean_squared_error').fit(train, hyperparameters=hyperparameters, hyperparameter_tune_kwargs={\"searcher\": \"bayesopt\", \"num_trials\": 20})\n"
   ]
  },
  {
   "cell_type": "code",
   "execution_count": 33,
   "id": "898b0c75-130e-4f8a-811c-53099fe4804a",
   "metadata": {
    "editable": true,
    "scrolled": true,
    "slideshow": {
     "slide_type": ""
    },
    "tags": []
   },
   "outputs": [
    {
     "name": "stdout",
     "output_type": "stream",
     "text": [
      "*** Summary of fit() ***\n",
      "Estimated performance of each model:\n",
      "                 model  score_val  pred_time_val  fit_time  pred_time_val_marginal  fit_time_marginal  stack_level  can_infer  fit_order\n",
      "0        LightGBMLarge -35.191676       0.427220  3.767560                0.427220           3.767560            1       True          1\n",
      "1  WeightedEnsemble_L2 -35.191676       0.427671  3.770962                0.000451           0.003402            2       True          2\n",
      "Number of models trained: 2\n",
      "Types of models trained:\n",
      "{'LGBModel', 'WeightedEnsembleModel'}\n",
      "Bagging used: False \n",
      "Multi-layer stack-ensembling used: False \n",
      "Feature Metadata (Processed):\n",
      "(raw dtype, special dtypes):\n",
      "('category', [])             : 2 | ['season', 'weather']\n",
      "('float', [])                : 3 | ['temp', 'atemp', 'windspeed']\n",
      "('int', [])                  : 2 | ['humidity', 'hour']\n",
      "('int', ['bool'])            : 2 | ['holiday', 'workingday']\n",
      "('int', ['datetime_as_int']) : 5 | ['datetime', 'datetime.year', 'datetime.month', 'datetime.day', 'datetime.dayofweek']\n",
      "*** End of fit() summary ***\n",
      "{'model_types': {'LightGBMLarge': 'LGBModel', 'WeightedEnsemble_L2': 'WeightedEnsembleModel'}, 'model_performance': {'LightGBMLarge': -35.19167599577367, 'WeightedEnsemble_L2': -35.19167599577367}, 'model_best': 'WeightedEnsemble_L2', 'model_paths': {'LightGBMLarge': ['LightGBMLarge'], 'WeightedEnsemble_L2': ['WeightedEnsemble_L2']}, 'model_fit_times': {'LightGBMLarge': 3.767559766769409, 'WeightedEnsemble_L2': 0.0034024715423583984}, 'model_pred_times': {'LightGBMLarge': 0.4272196292877197, 'WeightedEnsemble_L2': 0.0004513263702392578}, 'num_bag_folds': 0, 'max_stack_level': 2, 'model_hyperparams': {'LightGBMLarge': {'learning_rate': 0.03, 'num_leaves': 128, 'feature_fraction': 0.9, 'min_data_in_leaf': 5}, 'WeightedEnsemble_L2': {'use_orig_features': False, 'max_base_models': 25, 'max_base_models_per_type': 5, 'save_bag_folds': True}}, 'leaderboard':                  model  score_val  pred_time_val  fit_time  \\\n",
      "0        LightGBMLarge -35.191676       0.427220  3.767560   \n",
      "1  WeightedEnsemble_L2 -35.191676       0.427671  3.770962   \n",
      "\n",
      "   pred_time_val_marginal  fit_time_marginal  stack_level  can_infer  \\\n",
      "0                0.427220           3.767560            1       True   \n",
      "1                0.000451           0.003402            2       True   \n",
      "\n",
      "   fit_order  \n",
      "0          1  \n",
      "1          2  }\n"
     ]
    },
    {
     "name": "stderr",
     "output_type": "stream",
     "text": [
      "/opt/conda/lib/python3.10/site-packages/autogluon/core/utils/plots.py:169: UserWarning: AutoGluon summary plots cannot be created because bokeh is not installed. To see plots, please do: \"pip install bokeh==2.0.1\"\n",
      "  warnings.warn('AutoGluon summary plots cannot be created because bokeh is not installed. To see plots, please do: \"pip install bokeh==2.0.1\"')\n"
     ]
    }
   ],
   "source": [
    "# Print the summary of the new model with hyperparameters\n",
    "print(predictor_new_hpo.fit_summary())"
   ]
  },
  {
   "cell_type": "code",
   "execution_count": 34,
   "id": "a0afac11-d75d-47b7-8d5d-8c466e4dee3b",
   "metadata": {},
   "outputs": [],
   "source": [
    "# Make predictions with the new feature and hyperparameters and set all negative values to zero\n",
    "predictions_new_hpo = predictor_new_hpo.predict(test)\n",
    "predictions_new_hpo[predictions_new_hpo < 0] = 0"
   ]
  },
  {
   "cell_type": "code",
   "execution_count": 35,
   "id": "f7ba80ab-a1ab-4915-8e0d-7cf1667b3914",
   "metadata": {},
   "outputs": [],
   "source": [
    "# Set the new predictions to the 'count' column of the submission dataframe\n",
    "submission[\"count\"] = predictions_new_hpo\n",
    "\n",
    "# Save the new submission dataframe to a CSV file\n",
    "submission.to_csv(\"submission_new_hpo.csv\", index=False)\n"
   ]
  },
  {
   "cell_type": "code",
   "execution_count": 40,
   "id": "f5819f4d-507c-402b-920d-5be1b5ac04d3",
   "metadata": {},
   "outputs": [
    {
     "name": "stdout",
     "output_type": "stream",
     "text": [
      "100%|█████████████████████████████████████████| 188k/188k [00:00<00:00, 696kB/s]\n",
      "Successfully submitted to Bike Sharing Demand"
     ]
    }
   ],
   "source": [
    "!kaggle competitions submit -c bike-sharing-demand -f submission_new_hpo.csv -m \"new features with hyperparameters\""
   ]
  },
  {
   "cell_type": "code",
   "execution_count": 41,
   "id": "f6646a8b-5282-4cd1-8146-efaa0e8c2bc1",
   "metadata": {},
   "outputs": [
    {
     "name": "stdout",
     "output_type": "stream",
     "text": [
      "fileName                     date                 description                        status    publicScore  privateScore  \n",
      "---------------------------  -------------------  ---------------------------------  --------  -----------  ------------  \n",
      "submission_new_hpo.csv       2024-05-06 10:32:51  new features with hyperparameters  pending                              \n",
      "submission_new_hpo.csv       2024-05-06 10:30:48  new features with hyperparameters  complete  0.536        0.536         \n",
      "submission_new_features.csv  2024-05-06 10:30:39  new features                       complete  0.536        0.536         \n",
      "submission.csv               2024-05-06 10:30:25  first raw submission               complete  1.33653      1.33653       \n"
     ]
    }
   ],
   "source": [
    "!kaggle competitions submissions -c bike-sharing-demand | tail -n +1 | head -n 6"
   ]
  },
  {
   "cell_type": "code",
   "execution_count": 55,
   "id": "27a74bdc-e9a3-424f-b2a2-d8917dac0f08",
   "metadata": {},
   "outputs": [
    {
     "name": "stdout",
     "output_type": "stream",
     "text": [
      "Index(['model', 'score_val', 'pred_time_val', 'fit_time',\n",
      "       'pred_time_val_marginal', 'fit_time_marginal', 'stack_level',\n",
      "       'can_infer', 'fit_order'],\n",
      "      dtype='object')\n",
      "0          LightGBMLarge\n",
      "1    WeightedEnsemble_L2\n",
      "Name: model, dtype: object\n"
     ]
    }
   ],
   "source": [
    "print(leaderboard.columns)\n",
    "print(leaderboard['model'])"
   ]
  },
  {
   "cell_type": "code",
   "execution_count": 60,
   "id": "1acbbe81-2ca6-43ad-9d99-c3e9594e9fef",
   "metadata": {},
   "outputs": [
    {
     "name": "stdout",
     "output_type": "stream",
     "text": [
      "                 model   score_val  pred_time_val  fit_time  pred_time_val_marginal  fit_time_marginal  stack_level  can_infer  fit_order\n",
      "0        LightGBMLarge -133.005984       0.071803  4.932824                0.071803           4.932824            1       True          1\n",
      "1  WeightedEnsemble_L2 -133.005984       0.072413  4.938401                0.000611           0.005578            2       True          2\n",
      "                 model  score_val  pred_time_val  fit_time  pred_time_val_marginal  fit_time_marginal  stack_level  can_infer  fit_order\n",
      "0        LightGBMLarge -35.191676       0.363567  3.667878                0.363567           3.667878            1       True          1\n",
      "1  WeightedEnsemble_L2 -35.191676       0.363986  3.671035                0.000420           0.003157            2       True          2\n",
      "                 model  score_val  pred_time_val  fit_time  pred_time_val_marginal  fit_time_marginal  stack_level  can_infer  fit_order\n",
      "0        LightGBMLarge -35.191676       0.427220  3.767560                0.427220           3.767560            1       True          1\n",
      "1  WeightedEnsemble_L2 -35.191676       0.427671  3.770962                0.000451           0.003402            2       True          2\n"
     ]
    },
    {
     "data": {
      "image/png": "[encoded data removed]",
      "text/plain": [
       "<Figure size 800x600 with 1 Axes>"
      ]
     },
     "metadata": {},
     "output_type": "display_data"
    },
    {
     "data": {
      "image/png": "[encoded data removed]",
      "text/plain": [
       "<Figure size 800x600 with 1 Axes>"
      ]
     },
     "metadata": {},
     "output_type": "display_data"
    }
   ],
   "source": [
    "\n",
    "# Assume that 'predictor' is your trained TabularPredictor\n",
    "leaderboard = predictor.leaderboard()\n",
    "leaderboard_nf = predictor_new_features.leaderboard()\n",
    "leaderboard_hpo = predictor_new_hpo.leaderboard()\n",
    "\n",
    "\n",
    "# Get the best (minimum) score for each model\n",
    "initial_score = abs(leaderboard[leaderboard['model'] == 'WeightedEnsemble_L2']['score_val'].min())\n",
    "new_features_score = abs(leaderboard_nf[leaderboard['model'] == 'WeightedEnsemble_L2']['score_val'].min())\n",
    "new_hpo_score = abs(leaderboard_hpo[leaderboard['model'] == 'WeightedEnsemble_L2']['score_val'].min())\n",
    "\n",
    "# Create a line plot to show improvement of the model score\n",
    "fig = pd.DataFrame(\n",
    "    {\n",
    "        \"model\": [\"initial\", \"add_features\", \"hpo\"],\n",
    "        \"score\": [initial_score, new_features_score, new_hpo_score]\n",
    "    }\n",
    ").plot(x=\"model\", y=\"score\", figsize=(8, 6)).get_figure()\n",
    "fig.savefig('model_train_score.png')\n",
    "\n",
    "# Kaggle scores\n",
    "initial_kaggle_score = 1.33653  \n",
    "new_features_kaggle_score = 0.53600\n",
    "new_hpo_kaggle_score = 0.53600\n",
    "\n",
    "# Create a line plot to show improvement of the Kaggle score\n",
    "fig = pd.DataFrame(\n",
    "    {\n",
    "        \"test_eval\": [\"initial\", \"add_features\", \"hpo\"],\n",
    "        \"score\": [initial_kaggle_score, new_features_kaggle_score, new_hpo_kaggle_score]\n",
    "    }\n",
    ").plot(x=\"test_eval\", y=\"score\", figsize=(8, 6)).get_figure()\n",
    "fig.savefig('model_test_score.png')\n"
   ]
  },
  {
   "cell_type": "code",
   "execution_count": 61,
   "id": "d65fe374-f5f8-4a6e-9d7d-57c11987a5bc",
   "metadata": {},
   "outputs": [
    {
     "data": {
      "text/html": [
       "<div>\n",
       "<style scoped>\n",
       "    .dataframe tbody tr th:only-of-type {\n",
       "        vertical-align: middle;\n",
       "    }\n",
       "\n",
       "    .dataframe tbody tr th {\n",
       "        vertical-align: top;\n",
       "    }\n",
       "\n",
       "    .dataframe thead th {\n",
       "        text-align: right;\n",
       "    }\n",
       "</style>\n",
       "<table border=\"1\" class=\"dataframe\">\n",
       "  <thead>\n",
       "    <tr style=\"text-align: right;\">\n",
       "      <th></th>\n",
       "      <th>model</th>\n",
       "      <th>hpo1</th>\n",
       "      <th>hpo2</th>\n",
       "      <th>hpo3</th>\n",
       "      <th>score</th>\n",
       "    </tr>\n",
       "  </thead>\n",
       "  <tbody>\n",
       "    <tr>\n",
       "      <th>0</th>\n",
       "      <td>initial</td>\n",
       "      <td>default</td>\n",
       "      <td>default</td>\n",
       "      <td>default</td>\n",
       "      <td>1.33653</td>\n",
       "    </tr>\n",
       "    <tr>\n",
       "      <th>1</th>\n",
       "      <td>add_features</td>\n",
       "      <td>default</td>\n",
       "      <td>default</td>\n",
       "      <td>default</td>\n",
       "      <td>0.53600</td>\n",
       "    </tr>\n",
       "    <tr>\n",
       "      <th>2</th>\n",
       "      <td>hpo</td>\n",
       "      <td>GBM:'num_boost_round': 100, 'learning_rate': 0...</td>\n",
       "      <td>CAT: 'iterations': 100, 'learning_rate': 0.1</td>\n",
       "      <td>XGB: 'n_estimators': 100, 'learning_rate': 0.1</td>\n",
       "      <td>0.53600</td>\n",
       "    </tr>\n",
       "  </tbody>\n",
       "</table>\n",
       "</div>"
      ],
      "text/plain": [
       "          model                                               hpo1  \\\n",
       "0       initial                                            default   \n",
       "1  add_features                                            default   \n",
       "2           hpo  GBM:'num_boost_round': 100, 'learning_rate': 0...   \n",
       "\n",
       "                                           hpo2  \\\n",
       "0                                       default   \n",
       "1                                       default   \n",
       "2  CAT: 'iterations': 100, 'learning_rate': 0.1   \n",
       "\n",
       "                                             hpo3    score  \n",
       "0                                         default  1.33653  \n",
       "1                                         default  0.53600  \n",
       "2  XGB: 'n_estimators': 100, 'learning_rate': 0.1  0.53600  "
      ]
     },
     "execution_count": 61,
     "metadata": {},
     "output_type": "execute_result"
    }
   ],
   "source": [
    "pd.DataFrame({\n",
    "    \"model\": [\"initial\", \"add_features\", \"hpo\"],\n",
    "    \"hpo1\": [\"default\", \"default\", \"GBM:'num_boost_round': 100, 'learning_rate': 0.1}, 'GBMLarge' \"],\n",
    "    \"hpo2\": [\"default\", \"default\",  \"CAT: 'iterations': 100, 'learning_rate': 0.1\"],\n",
    "    \"hpo3\": [\"default\", \"default\", \"XGB: 'n_estimators': 100, 'learning_rate': 0.1\"],\n",
    "    \"score\": [1.33653, 0.536 , 0.536 ]  # your actual Kaggle scores\n",
    "})\n"
   ]
  },
  {
   "cell_type": "code",
   "execution_count": 62,
   "id": "61941689-0ba2-4ff5-8877-93e4fd96c165",
   "metadata": {
    "editable": true,
    "slideshow": {
     "slide_type": ""
    },
    "tags": []
   },
   "outputs": [
    {
     "name": "stdout",
     "output_type": "stream",
     "text": [
      "[NbConvertApp] Converting notebook project_notebook.ipynb to html\n",
      "[NbConvertApp] WARNING | Alternative text is missing on 4 image(s).\n",
      "[NbConvertApp] Writing 629932 bytes to project_notebook.html\n"
     ]
    }
   ],
   "source": [
    "!jupyter nbconvert --to html project_notebook.ipynb"
   ]
  },
  {
   "cell_type": "code",
   "execution_count": null,
   "id": "112559fc-2cf6-4e8e-98ac-09116b360a95",
   "metadata": {
    "editable": true,
    "slideshow": {
     "slide_type": ""
    },
    "tags": []
   },
   "outputs": [],
   "source": []
  }
 ],
 "metadata": {
  "kernelspec": {
   "display_name": "Python 3 (ipykernel)",
   "language": "python",
   "name": "python3"
  },
  "language_info": {
   "codemirror_mode": {
    "name": "ipython",
    "version": 3
   },
   "file_extension": ".py",
   "mimetype": "text/x-python",
   "name": "python",
   "nbconvert_exporter": "python",
   "pygments_lexer": "ipython3",
   "version": "3.10.14"
  }
 },
 "nbformat": 4,
 "nbformat_minor": 5
}
